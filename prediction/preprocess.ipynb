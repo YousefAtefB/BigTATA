{
 "cells": [
  {
   "attachments": {},
   "cell_type": "markdown",
   "id": "6294bc9a",
   "metadata": {
    "papermill": {
     "duration": 0.013014,
     "end_time": "2022-08-24T11:13:16.810872",
     "exception": false,
     "start_time": "2022-08-24T11:13:16.797858",
     "status": "completed"
    },
    "tags": []
   },
   "source": [
    "# Import Libraries"
   ]
  },
  {
   "cell_type": "code",
   "execution_count": 40,
   "id": "708171a7",
   "metadata": {
    "execution": {
     "iopub.execute_input": "2022-08-24T11:13:16.837781Z",
     "iopub.status.busy": "2022-08-24T11:13:16.837074Z",
     "iopub.status.idle": "2022-08-24T11:13:17.889043Z",
     "shell.execute_reply": "2022-08-24T11:13:17.887986Z"
    },
    "papermill": {
     "duration": 1.068932,
     "end_time": "2022-08-24T11:13:17.891759",
     "exception": false,
     "start_time": "2022-08-24T11:13:16.822827",
     "status": "completed"
    },
    "tags": []
   },
   "outputs": [],
   "source": [
    "import numpy as np \n",
    "import pandas as pd\n",
    "from sklearn.model_selection import train_test_split\n",
    "from sklearn.preprocessing import LabelEncoder\n",
    "from sklearn.metrics import classification_report\n",
    "from sklearn.feature_selection import SelectKBest\n",
    "from sklearn.preprocessing import MinMaxScaler"
   ]
  },
  {
   "cell_type": "code",
   "execution_count": 41,
   "id": "7cb33914",
   "metadata": {
    "execution": {
     "iopub.execute_input": "2022-08-24T11:13:17.919803Z",
     "iopub.status.busy": "2022-08-24T11:13:17.919130Z",
     "iopub.status.idle": "2022-08-24T11:13:17.924064Z",
     "shell.execute_reply": "2022-08-24T11:13:17.922841Z"
    },
    "papermill": {
     "duration": 0.02056,
     "end_time": "2022-08-24T11:13:17.926310",
     "exception": false,
     "start_time": "2022-08-24T11:13:17.905750",
     "status": "completed"
    },
    "tags": []
   },
   "outputs": [],
   "source": [
    "import warnings\n",
    "warnings.filterwarnings(\"ignore\")\n",
    "\n",
    "pd.set_option('display.max_columns', None)"
   ]
  },
  {
   "attachments": {},
   "cell_type": "markdown",
   "id": "c57a091a",
   "metadata": {
    "papermill": {
     "duration": 0.012012,
     "end_time": "2022-08-24T11:13:17.950446",
     "exception": false,
     "start_time": "2022-08-24T11:13:17.938434",
     "status": "completed"
    },
    "tags": []
   },
   "source": [
    "# Import Data"
   ]
  },
  {
   "cell_type": "code",
   "execution_count": 42,
   "id": "c5cff4de",
   "metadata": {
    "execution": {
     "iopub.execute_input": "2022-08-24T11:13:17.976999Z",
     "iopub.status.busy": "2022-08-24T11:13:17.976154Z",
     "iopub.status.idle": "2022-08-24T11:13:18.420075Z",
     "shell.execute_reply": "2022-08-24T11:13:18.418853Z"
    },
    "papermill": {
     "duration": 0.460041,
     "end_time": "2022-08-24T11:13:18.422697",
     "exception": false,
     "start_time": "2022-08-24T11:13:17.962656",
     "status": "completed"
    },
    "tags": []
   },
   "outputs": [
    {
     "data": {
      "text/html": [
       "<div>\n",
       "<style scoped>\n",
       "    .dataframe tbody tr th:only-of-type {\n",
       "        vertical-align: middle;\n",
       "    }\n",
       "\n",
       "    .dataframe tbody tr th {\n",
       "        vertical-align: top;\n",
       "    }\n",
       "\n",
       "    .dataframe thead th {\n",
       "        text-align: right;\n",
       "    }\n",
       "</style>\n",
       "<table border=\"1\" class=\"dataframe\">\n",
       "  <thead>\n",
       "    <tr style=\"text-align: right;\">\n",
       "      <th></th>\n",
       "      <th>Date</th>\n",
       "      <th>Location</th>\n",
       "      <th>MinTemp</th>\n",
       "      <th>MaxTemp</th>\n",
       "      <th>Rainfall</th>\n",
       "      <th>Evaporation</th>\n",
       "      <th>Sunshine</th>\n",
       "      <th>WindGustDir</th>\n",
       "      <th>WindGustSpeed</th>\n",
       "      <th>WindDir9am</th>\n",
       "      <th>WindDir3pm</th>\n",
       "      <th>WindSpeed9am</th>\n",
       "      <th>WindSpeed3pm</th>\n",
       "      <th>Humidity9am</th>\n",
       "      <th>Humidity3pm</th>\n",
       "      <th>Pressure9am</th>\n",
       "      <th>Pressure3pm</th>\n",
       "      <th>Cloud9am</th>\n",
       "      <th>Cloud3pm</th>\n",
       "      <th>Temp9am</th>\n",
       "      <th>Temp3pm</th>\n",
       "      <th>RainToday</th>\n",
       "      <th>RainTomorrow</th>\n",
       "    </tr>\n",
       "  </thead>\n",
       "  <tbody>\n",
       "    <tr>\n",
       "      <th>0</th>\n",
       "      <td>2008-12-01</td>\n",
       "      <td>Albury</td>\n",
       "      <td>13.4</td>\n",
       "      <td>22.9</td>\n",
       "      <td>0.6</td>\n",
       "      <td>NaN</td>\n",
       "      <td>NaN</td>\n",
       "      <td>W</td>\n",
       "      <td>44.0</td>\n",
       "      <td>W</td>\n",
       "      <td>WNW</td>\n",
       "      <td>20.0</td>\n",
       "      <td>24.0</td>\n",
       "      <td>71.0</td>\n",
       "      <td>22.0</td>\n",
       "      <td>1007.7</td>\n",
       "      <td>1007.1</td>\n",
       "      <td>8.0</td>\n",
       "      <td>NaN</td>\n",
       "      <td>16.9</td>\n",
       "      <td>21.8</td>\n",
       "      <td>No</td>\n",
       "      <td>No</td>\n",
       "    </tr>\n",
       "    <tr>\n",
       "      <th>1</th>\n",
       "      <td>2008-12-02</td>\n",
       "      <td>Albury</td>\n",
       "      <td>7.4</td>\n",
       "      <td>25.1</td>\n",
       "      <td>0.0</td>\n",
       "      <td>NaN</td>\n",
       "      <td>NaN</td>\n",
       "      <td>WNW</td>\n",
       "      <td>44.0</td>\n",
       "      <td>NNW</td>\n",
       "      <td>WSW</td>\n",
       "      <td>4.0</td>\n",
       "      <td>22.0</td>\n",
       "      <td>44.0</td>\n",
       "      <td>25.0</td>\n",
       "      <td>1010.6</td>\n",
       "      <td>1007.8</td>\n",
       "      <td>NaN</td>\n",
       "      <td>NaN</td>\n",
       "      <td>17.2</td>\n",
       "      <td>24.3</td>\n",
       "      <td>No</td>\n",
       "      <td>No</td>\n",
       "    </tr>\n",
       "    <tr>\n",
       "      <th>2</th>\n",
       "      <td>2008-12-03</td>\n",
       "      <td>Albury</td>\n",
       "      <td>12.9</td>\n",
       "      <td>25.7</td>\n",
       "      <td>0.0</td>\n",
       "      <td>NaN</td>\n",
       "      <td>NaN</td>\n",
       "      <td>WSW</td>\n",
       "      <td>46.0</td>\n",
       "      <td>W</td>\n",
       "      <td>WSW</td>\n",
       "      <td>19.0</td>\n",
       "      <td>26.0</td>\n",
       "      <td>38.0</td>\n",
       "      <td>30.0</td>\n",
       "      <td>1007.6</td>\n",
       "      <td>1008.7</td>\n",
       "      <td>NaN</td>\n",
       "      <td>2.0</td>\n",
       "      <td>21.0</td>\n",
       "      <td>23.2</td>\n",
       "      <td>No</td>\n",
       "      <td>No</td>\n",
       "    </tr>\n",
       "    <tr>\n",
       "      <th>3</th>\n",
       "      <td>2008-12-04</td>\n",
       "      <td>Albury</td>\n",
       "      <td>9.2</td>\n",
       "      <td>28.0</td>\n",
       "      <td>0.0</td>\n",
       "      <td>NaN</td>\n",
       "      <td>NaN</td>\n",
       "      <td>NE</td>\n",
       "      <td>24.0</td>\n",
       "      <td>SE</td>\n",
       "      <td>E</td>\n",
       "      <td>11.0</td>\n",
       "      <td>9.0</td>\n",
       "      <td>45.0</td>\n",
       "      <td>16.0</td>\n",
       "      <td>1017.6</td>\n",
       "      <td>1012.8</td>\n",
       "      <td>NaN</td>\n",
       "      <td>NaN</td>\n",
       "      <td>18.1</td>\n",
       "      <td>26.5</td>\n",
       "      <td>No</td>\n",
       "      <td>No</td>\n",
       "    </tr>\n",
       "    <tr>\n",
       "      <th>4</th>\n",
       "      <td>2008-12-05</td>\n",
       "      <td>Albury</td>\n",
       "      <td>17.5</td>\n",
       "      <td>32.3</td>\n",
       "      <td>1.0</td>\n",
       "      <td>NaN</td>\n",
       "      <td>NaN</td>\n",
       "      <td>W</td>\n",
       "      <td>41.0</td>\n",
       "      <td>ENE</td>\n",
       "      <td>NW</td>\n",
       "      <td>7.0</td>\n",
       "      <td>20.0</td>\n",
       "      <td>82.0</td>\n",
       "      <td>33.0</td>\n",
       "      <td>1010.8</td>\n",
       "      <td>1006.0</td>\n",
       "      <td>7.0</td>\n",
       "      <td>8.0</td>\n",
       "      <td>17.8</td>\n",
       "      <td>29.7</td>\n",
       "      <td>No</td>\n",
       "      <td>No</td>\n",
       "    </tr>\n",
       "  </tbody>\n",
       "</table>\n",
       "</div>"
      ],
      "text/plain": [
       "         Date Location  MinTemp  MaxTemp  Rainfall  Evaporation  Sunshine  \\\n",
       "0  2008-12-01   Albury     13.4     22.9       0.6          NaN       NaN   \n",
       "1  2008-12-02   Albury      7.4     25.1       0.0          NaN       NaN   \n",
       "2  2008-12-03   Albury     12.9     25.7       0.0          NaN       NaN   \n",
       "3  2008-12-04   Albury      9.2     28.0       0.0          NaN       NaN   \n",
       "4  2008-12-05   Albury     17.5     32.3       1.0          NaN       NaN   \n",
       "\n",
       "  WindGustDir  WindGustSpeed WindDir9am WindDir3pm  WindSpeed9am  \\\n",
       "0           W           44.0          W        WNW          20.0   \n",
       "1         WNW           44.0        NNW        WSW           4.0   \n",
       "2         WSW           46.0          W        WSW          19.0   \n",
       "3          NE           24.0         SE          E          11.0   \n",
       "4           W           41.0        ENE         NW           7.0   \n",
       "\n",
       "   WindSpeed3pm  Humidity9am  Humidity3pm  Pressure9am  Pressure3pm  Cloud9am  \\\n",
       "0          24.0         71.0         22.0       1007.7       1007.1       8.0   \n",
       "1          22.0         44.0         25.0       1010.6       1007.8       NaN   \n",
       "2          26.0         38.0         30.0       1007.6       1008.7       NaN   \n",
       "3           9.0         45.0         16.0       1017.6       1012.8       NaN   \n",
       "4          20.0         82.0         33.0       1010.8       1006.0       7.0   \n",
       "\n",
       "   Cloud3pm  Temp9am  Temp3pm RainToday RainTomorrow  \n",
       "0       NaN     16.9     21.8        No           No  \n",
       "1       NaN     17.2     24.3        No           No  \n",
       "2       2.0     21.0     23.2        No           No  \n",
       "3       NaN     18.1     26.5        No           No  \n",
       "4       8.0     17.8     29.7        No           No  "
      ]
     },
     "execution_count": 42,
     "metadata": {},
     "output_type": "execute_result"
    }
   ],
   "source": [
    "df = pd.read_csv('../weatherAUS.csv')\n",
    "df.head()"
   ]
  },
  {
   "cell_type": "code",
   "execution_count": 43,
   "id": "3aa01b7b",
   "metadata": {
    "execution": {
     "iopub.execute_input": "2022-08-24T11:13:18.496731Z",
     "iopub.status.busy": "2022-08-24T11:13:18.496318Z",
     "iopub.status.idle": "2022-08-24T11:13:18.501474Z",
     "shell.execute_reply": "2022-08-24T11:13:18.500885Z"
    },
    "papermill": {
     "duration": 0.020261,
     "end_time": "2022-08-24T11:13:18.503348",
     "exception": false,
     "start_time": "2022-08-24T11:13:18.483087",
     "status": "completed"
    },
    "tags": []
   },
   "outputs": [
    {
     "data": {
      "text/plain": [
       "(145460, 23)"
      ]
     },
     "execution_count": 43,
     "metadata": {},
     "output_type": "execute_result"
    }
   ],
   "source": [
    "#check the shape of the dataframe\n",
    "df.shape "
   ]
  },
  {
   "cell_type": "code",
   "execution_count": 44,
   "id": "4424eabf",
   "metadata": {
    "execution": {
     "iopub.execute_input": "2022-08-24T11:13:18.552901Z",
     "iopub.status.busy": "2022-08-24T11:13:18.552265Z",
     "iopub.status.idle": "2022-08-24T11:13:18.620338Z",
     "shell.execute_reply": "2022-08-24T11:13:18.619077Z"
    },
    "papermill": {
     "duration": 0.083653,
     "end_time": "2022-08-24T11:13:18.622590",
     "exception": false,
     "start_time": "2022-08-24T11:13:18.538937",
     "status": "completed"
    },
    "tags": []
   },
   "outputs": [
    {
     "name": "stdout",
     "output_type": "stream",
     "text": [
      "<class 'pandas.core.frame.DataFrame'>\n",
      "RangeIndex: 145460 entries, 0 to 145459\n",
      "Data columns (total 23 columns):\n",
      " #   Column         Non-Null Count   Dtype  \n",
      "---  ------         --------------   -----  \n",
      " 0   Date           145460 non-null  object \n",
      " 1   Location       145460 non-null  object \n",
      " 2   MinTemp        143975 non-null  float64\n",
      " 3   MaxTemp        144199 non-null  float64\n",
      " 4   Rainfall       142199 non-null  float64\n",
      " 5   Evaporation    82670 non-null   float64\n",
      " 6   Sunshine       75625 non-null   float64\n",
      " 7   WindGustDir    135134 non-null  object \n",
      " 8   WindGustSpeed  135197 non-null  float64\n",
      " 9   WindDir9am     134894 non-null  object \n",
      " 10  WindDir3pm     141232 non-null  object \n",
      " 11  WindSpeed9am   143693 non-null  float64\n",
      " 12  WindSpeed3pm   142398 non-null  float64\n",
      " 13  Humidity9am    142806 non-null  float64\n",
      " 14  Humidity3pm    140953 non-null  float64\n",
      " 15  Pressure9am    130395 non-null  float64\n",
      " 16  Pressure3pm    130432 non-null  float64\n",
      " 17  Cloud9am       89572 non-null   float64\n",
      " 18  Cloud3pm       86102 non-null   float64\n",
      " 19  Temp9am        143693 non-null  float64\n",
      " 20  Temp3pm        141851 non-null  float64\n",
      " 21  RainToday      142199 non-null  object \n",
      " 22  RainTomorrow   142193 non-null  object \n",
      "dtypes: float64(16), object(7)\n",
      "memory usage: 25.5+ MB\n"
     ]
    }
   ],
   "source": [
    "df.info()"
   ]
  },
  {
   "cell_type": "code",
   "execution_count": 45,
   "id": "bf8554cd",
   "metadata": {
    "execution": {
     "iopub.execute_input": "2022-08-24T11:13:18.650036Z",
     "iopub.status.busy": "2022-08-24T11:13:18.649126Z",
     "iopub.status.idle": "2022-08-24T11:13:18.696114Z",
     "shell.execute_reply": "2022-08-24T11:13:18.695096Z"
    },
    "papermill": {
     "duration": 0.062831,
     "end_time": "2022-08-24T11:13:18.698171",
     "exception": false,
     "start_time": "2022-08-24T11:13:18.635340",
     "status": "completed"
    },
    "tags": []
   },
   "outputs": [
    {
     "data": {
      "text/plain": [
       "Date                 0\n",
       "Location             0\n",
       "MinTemp           1485\n",
       "MaxTemp           1261\n",
       "Rainfall          3261\n",
       "Evaporation      62790\n",
       "Sunshine         69835\n",
       "WindGustDir      10326\n",
       "WindGustSpeed    10263\n",
       "WindDir9am       10566\n",
       "WindDir3pm        4228\n",
       "WindSpeed9am      1767\n",
       "WindSpeed3pm      3062\n",
       "Humidity9am       2654\n",
       "Humidity3pm       4507\n",
       "Pressure9am      15065\n",
       "Pressure3pm      15028\n",
       "Cloud9am         55888\n",
       "Cloud3pm         59358\n",
       "Temp9am           1767\n",
       "Temp3pm           3609\n",
       "RainToday         3261\n",
       "RainTomorrow      3267\n",
       "dtype: int64"
      ]
     },
     "execution_count": 45,
     "metadata": {},
     "output_type": "execute_result"
    }
   ],
   "source": [
    "df.isna().sum()"
   ]
  },
  {
   "cell_type": "code",
   "execution_count": 46,
   "id": "77402061",
   "metadata": {
    "execution": {
     "iopub.execute_input": "2022-08-24T11:13:18.725247Z",
     "iopub.status.busy": "2022-08-24T11:13:18.724457Z",
     "iopub.status.idle": "2022-08-24T11:13:18.848015Z",
     "shell.execute_reply": "2022-08-24T11:13:18.846582Z"
    },
    "papermill": {
     "duration": 0.141252,
     "end_time": "2022-08-24T11:13:18.852079",
     "exception": false,
     "start_time": "2022-08-24T11:13:18.710827",
     "status": "completed"
    },
    "tags": []
   },
   "outputs": [
    {
     "data": {
      "text/html": [
       "<div>\n",
       "<style scoped>\n",
       "    .dataframe tbody tr th:only-of-type {\n",
       "        vertical-align: middle;\n",
       "    }\n",
       "\n",
       "    .dataframe tbody tr th {\n",
       "        vertical-align: top;\n",
       "    }\n",
       "\n",
       "    .dataframe thead th {\n",
       "        text-align: right;\n",
       "    }\n",
       "</style>\n",
       "<table border=\"1\" class=\"dataframe\">\n",
       "  <thead>\n",
       "    <tr style=\"text-align: right;\">\n",
       "      <th></th>\n",
       "      <th>Date</th>\n",
       "      <th>Location</th>\n",
       "      <th>WindGustDir</th>\n",
       "      <th>WindDir9am</th>\n",
       "      <th>WindDir3pm</th>\n",
       "      <th>RainToday</th>\n",
       "      <th>RainTomorrow</th>\n",
       "    </tr>\n",
       "  </thead>\n",
       "  <tbody>\n",
       "    <tr>\n",
       "      <th>count</th>\n",
       "      <td>145460</td>\n",
       "      <td>145460</td>\n",
       "      <td>135134</td>\n",
       "      <td>134894</td>\n",
       "      <td>141232</td>\n",
       "      <td>142199</td>\n",
       "      <td>142193</td>\n",
       "    </tr>\n",
       "    <tr>\n",
       "      <th>unique</th>\n",
       "      <td>3436</td>\n",
       "      <td>49</td>\n",
       "      <td>16</td>\n",
       "      <td>16</td>\n",
       "      <td>16</td>\n",
       "      <td>2</td>\n",
       "      <td>2</td>\n",
       "    </tr>\n",
       "    <tr>\n",
       "      <th>top</th>\n",
       "      <td>2013-11-12</td>\n",
       "      <td>Canberra</td>\n",
       "      <td>W</td>\n",
       "      <td>N</td>\n",
       "      <td>SE</td>\n",
       "      <td>No</td>\n",
       "      <td>No</td>\n",
       "    </tr>\n",
       "    <tr>\n",
       "      <th>freq</th>\n",
       "      <td>49</td>\n",
       "      <td>3436</td>\n",
       "      <td>9915</td>\n",
       "      <td>11758</td>\n",
       "      <td>10838</td>\n",
       "      <td>110319</td>\n",
       "      <td>110316</td>\n",
       "    </tr>\n",
       "  </tbody>\n",
       "</table>\n",
       "</div>"
      ],
      "text/plain": [
       "              Date  Location WindGustDir WindDir9am WindDir3pm RainToday  \\\n",
       "count       145460    145460      135134     134894     141232    142199   \n",
       "unique        3436        49          16         16         16         2   \n",
       "top     2013-11-12  Canberra           W          N         SE        No   \n",
       "freq            49      3436        9915      11758      10838    110319   \n",
       "\n",
       "       RainTomorrow  \n",
       "count        142193  \n",
       "unique            2  \n",
       "top              No  \n",
       "freq         110316  "
      ]
     },
     "execution_count": 46,
     "metadata": {},
     "output_type": "execute_result"
    }
   ],
   "source": [
    "df.describe(include=\"O\")"
   ]
  },
  {
   "cell_type": "code",
   "execution_count": 47,
   "id": "a4de59cf",
   "metadata": {
    "execution": {
     "iopub.execute_input": "2022-08-24T11:13:18.882945Z",
     "iopub.status.busy": "2022-08-24T11:13:18.881662Z",
     "iopub.status.idle": "2022-08-24T11:13:19.007739Z",
     "shell.execute_reply": "2022-08-24T11:13:19.007028Z"
    },
    "papermill": {
     "duration": 0.143244,
     "end_time": "2022-08-24T11:13:19.009503",
     "exception": false,
     "start_time": "2022-08-24T11:13:18.866259",
     "status": "completed"
    },
    "tags": []
   },
   "outputs": [
    {
     "data": {
      "text/html": [
       "<div>\n",
       "<style scoped>\n",
       "    .dataframe tbody tr th:only-of-type {\n",
       "        vertical-align: middle;\n",
       "    }\n",
       "\n",
       "    .dataframe tbody tr th {\n",
       "        vertical-align: top;\n",
       "    }\n",
       "\n",
       "    .dataframe thead th {\n",
       "        text-align: right;\n",
       "    }\n",
       "</style>\n",
       "<table border=\"1\" class=\"dataframe\">\n",
       "  <thead>\n",
       "    <tr style=\"text-align: right;\">\n",
       "      <th></th>\n",
       "      <th>MinTemp</th>\n",
       "      <th>MaxTemp</th>\n",
       "      <th>Rainfall</th>\n",
       "      <th>Evaporation</th>\n",
       "      <th>Sunshine</th>\n",
       "      <th>WindGustSpeed</th>\n",
       "      <th>WindSpeed9am</th>\n",
       "      <th>WindSpeed3pm</th>\n",
       "      <th>Humidity9am</th>\n",
       "      <th>Humidity3pm</th>\n",
       "      <th>Pressure9am</th>\n",
       "      <th>Pressure3pm</th>\n",
       "      <th>Cloud9am</th>\n",
       "      <th>Cloud3pm</th>\n",
       "      <th>Temp9am</th>\n",
       "      <th>Temp3pm</th>\n",
       "    </tr>\n",
       "  </thead>\n",
       "  <tbody>\n",
       "    <tr>\n",
       "      <th>count</th>\n",
       "      <td>143975.000000</td>\n",
       "      <td>144199.000000</td>\n",
       "      <td>142199.000000</td>\n",
       "      <td>82670.000000</td>\n",
       "      <td>75625.000000</td>\n",
       "      <td>135197.000000</td>\n",
       "      <td>143693.000000</td>\n",
       "      <td>142398.000000</td>\n",
       "      <td>142806.000000</td>\n",
       "      <td>140953.000000</td>\n",
       "      <td>130395.00000</td>\n",
       "      <td>130432.000000</td>\n",
       "      <td>89572.000000</td>\n",
       "      <td>86102.000000</td>\n",
       "      <td>143693.000000</td>\n",
       "      <td>141851.00000</td>\n",
       "    </tr>\n",
       "    <tr>\n",
       "      <th>mean</th>\n",
       "      <td>12.194034</td>\n",
       "      <td>23.221348</td>\n",
       "      <td>2.360918</td>\n",
       "      <td>5.468232</td>\n",
       "      <td>7.611178</td>\n",
       "      <td>40.035230</td>\n",
       "      <td>14.043426</td>\n",
       "      <td>18.662657</td>\n",
       "      <td>68.880831</td>\n",
       "      <td>51.539116</td>\n",
       "      <td>1017.64994</td>\n",
       "      <td>1015.255889</td>\n",
       "      <td>4.447461</td>\n",
       "      <td>4.509930</td>\n",
       "      <td>16.990631</td>\n",
       "      <td>21.68339</td>\n",
       "    </tr>\n",
       "    <tr>\n",
       "      <th>std</th>\n",
       "      <td>6.398495</td>\n",
       "      <td>7.119049</td>\n",
       "      <td>8.478060</td>\n",
       "      <td>4.193704</td>\n",
       "      <td>3.785483</td>\n",
       "      <td>13.607062</td>\n",
       "      <td>8.915375</td>\n",
       "      <td>8.809800</td>\n",
       "      <td>19.029164</td>\n",
       "      <td>20.795902</td>\n",
       "      <td>7.10653</td>\n",
       "      <td>7.037414</td>\n",
       "      <td>2.887159</td>\n",
       "      <td>2.720357</td>\n",
       "      <td>6.488753</td>\n",
       "      <td>6.93665</td>\n",
       "    </tr>\n",
       "    <tr>\n",
       "      <th>min</th>\n",
       "      <td>-8.500000</td>\n",
       "      <td>-4.800000</td>\n",
       "      <td>0.000000</td>\n",
       "      <td>0.000000</td>\n",
       "      <td>0.000000</td>\n",
       "      <td>6.000000</td>\n",
       "      <td>0.000000</td>\n",
       "      <td>0.000000</td>\n",
       "      <td>0.000000</td>\n",
       "      <td>0.000000</td>\n",
       "      <td>980.50000</td>\n",
       "      <td>977.100000</td>\n",
       "      <td>0.000000</td>\n",
       "      <td>0.000000</td>\n",
       "      <td>-7.200000</td>\n",
       "      <td>-5.40000</td>\n",
       "    </tr>\n",
       "    <tr>\n",
       "      <th>25%</th>\n",
       "      <td>7.600000</td>\n",
       "      <td>17.900000</td>\n",
       "      <td>0.000000</td>\n",
       "      <td>2.600000</td>\n",
       "      <td>4.800000</td>\n",
       "      <td>31.000000</td>\n",
       "      <td>7.000000</td>\n",
       "      <td>13.000000</td>\n",
       "      <td>57.000000</td>\n",
       "      <td>37.000000</td>\n",
       "      <td>1012.90000</td>\n",
       "      <td>1010.400000</td>\n",
       "      <td>1.000000</td>\n",
       "      <td>2.000000</td>\n",
       "      <td>12.300000</td>\n",
       "      <td>16.60000</td>\n",
       "    </tr>\n",
       "    <tr>\n",
       "      <th>50%</th>\n",
       "      <td>12.000000</td>\n",
       "      <td>22.600000</td>\n",
       "      <td>0.000000</td>\n",
       "      <td>4.800000</td>\n",
       "      <td>8.400000</td>\n",
       "      <td>39.000000</td>\n",
       "      <td>13.000000</td>\n",
       "      <td>19.000000</td>\n",
       "      <td>70.000000</td>\n",
       "      <td>52.000000</td>\n",
       "      <td>1017.60000</td>\n",
       "      <td>1015.200000</td>\n",
       "      <td>5.000000</td>\n",
       "      <td>5.000000</td>\n",
       "      <td>16.700000</td>\n",
       "      <td>21.10000</td>\n",
       "    </tr>\n",
       "    <tr>\n",
       "      <th>75%</th>\n",
       "      <td>16.900000</td>\n",
       "      <td>28.200000</td>\n",
       "      <td>0.800000</td>\n",
       "      <td>7.400000</td>\n",
       "      <td>10.600000</td>\n",
       "      <td>48.000000</td>\n",
       "      <td>19.000000</td>\n",
       "      <td>24.000000</td>\n",
       "      <td>83.000000</td>\n",
       "      <td>66.000000</td>\n",
       "      <td>1022.40000</td>\n",
       "      <td>1020.000000</td>\n",
       "      <td>7.000000</td>\n",
       "      <td>7.000000</td>\n",
       "      <td>21.600000</td>\n",
       "      <td>26.40000</td>\n",
       "    </tr>\n",
       "    <tr>\n",
       "      <th>max</th>\n",
       "      <td>33.900000</td>\n",
       "      <td>48.100000</td>\n",
       "      <td>371.000000</td>\n",
       "      <td>145.000000</td>\n",
       "      <td>14.500000</td>\n",
       "      <td>135.000000</td>\n",
       "      <td>130.000000</td>\n",
       "      <td>87.000000</td>\n",
       "      <td>100.000000</td>\n",
       "      <td>100.000000</td>\n",
       "      <td>1041.00000</td>\n",
       "      <td>1039.600000</td>\n",
       "      <td>9.000000</td>\n",
       "      <td>9.000000</td>\n",
       "      <td>40.200000</td>\n",
       "      <td>46.70000</td>\n",
       "    </tr>\n",
       "  </tbody>\n",
       "</table>\n",
       "</div>"
      ],
      "text/plain": [
       "             MinTemp        MaxTemp       Rainfall   Evaporation  \\\n",
       "count  143975.000000  144199.000000  142199.000000  82670.000000   \n",
       "mean       12.194034      23.221348       2.360918      5.468232   \n",
       "std         6.398495       7.119049       8.478060      4.193704   \n",
       "min        -8.500000      -4.800000       0.000000      0.000000   \n",
       "25%         7.600000      17.900000       0.000000      2.600000   \n",
       "50%        12.000000      22.600000       0.000000      4.800000   \n",
       "75%        16.900000      28.200000       0.800000      7.400000   \n",
       "max        33.900000      48.100000     371.000000    145.000000   \n",
       "\n",
       "           Sunshine  WindGustSpeed   WindSpeed9am   WindSpeed3pm  \\\n",
       "count  75625.000000  135197.000000  143693.000000  142398.000000   \n",
       "mean       7.611178      40.035230      14.043426      18.662657   \n",
       "std        3.785483      13.607062       8.915375       8.809800   \n",
       "min        0.000000       6.000000       0.000000       0.000000   \n",
       "25%        4.800000      31.000000       7.000000      13.000000   \n",
       "50%        8.400000      39.000000      13.000000      19.000000   \n",
       "75%       10.600000      48.000000      19.000000      24.000000   \n",
       "max       14.500000     135.000000     130.000000      87.000000   \n",
       "\n",
       "         Humidity9am    Humidity3pm   Pressure9am    Pressure3pm  \\\n",
       "count  142806.000000  140953.000000  130395.00000  130432.000000   \n",
       "mean       68.880831      51.539116    1017.64994    1015.255889   \n",
       "std        19.029164      20.795902       7.10653       7.037414   \n",
       "min         0.000000       0.000000     980.50000     977.100000   \n",
       "25%        57.000000      37.000000    1012.90000    1010.400000   \n",
       "50%        70.000000      52.000000    1017.60000    1015.200000   \n",
       "75%        83.000000      66.000000    1022.40000    1020.000000   \n",
       "max       100.000000     100.000000    1041.00000    1039.600000   \n",
       "\n",
       "           Cloud9am      Cloud3pm        Temp9am       Temp3pm  \n",
       "count  89572.000000  86102.000000  143693.000000  141851.00000  \n",
       "mean       4.447461      4.509930      16.990631      21.68339  \n",
       "std        2.887159      2.720357       6.488753       6.93665  \n",
       "min        0.000000      0.000000      -7.200000      -5.40000  \n",
       "25%        1.000000      2.000000      12.300000      16.60000  \n",
       "50%        5.000000      5.000000      16.700000      21.10000  \n",
       "75%        7.000000      7.000000      21.600000      26.40000  \n",
       "max        9.000000      9.000000      40.200000      46.70000  "
      ]
     },
     "execution_count": 47,
     "metadata": {},
     "output_type": "execute_result"
    }
   ],
   "source": [
    "df.describe()"
   ]
  },
  {
   "attachments": {},
   "cell_type": "markdown",
   "id": "239efc65",
   "metadata": {
    "papermill": {
     "duration": 0.04545,
     "end_time": "2022-08-24T11:15:08.344067",
     "exception": false,
     "start_time": "2022-08-24T11:15:08.298617",
     "status": "completed"
    },
    "tags": []
   },
   "source": [
    "# Preprocessing\n",
    "\n"
   ]
  },
  {
   "cell_type": "code",
   "execution_count": 48,
   "id": "64ea11f3",
   "metadata": {
    "execution": {
     "iopub.execute_input": "2022-08-24T11:15:08.436739Z",
     "iopub.status.busy": "2022-08-24T11:15:08.436372Z",
     "iopub.status.idle": "2022-08-24T11:15:08.451187Z",
     "shell.execute_reply": "2022-08-24T11:15:08.450206Z"
    },
    "papermill": {
     "duration": 0.063783,
     "end_time": "2022-08-24T11:15:08.453530",
     "exception": false,
     "start_time": "2022-08-24T11:15:08.389747",
     "status": "completed"
    },
    "tags": []
   },
   "outputs": [],
   "source": [
    "df_preprocessed = df.copy()"
   ]
  },
  {
   "cell_type": "code",
   "execution_count": 49,
   "id": "e92cd1a7",
   "metadata": {
    "execution": {
     "iopub.execute_input": "2022-08-24T11:15:08.547490Z",
     "iopub.status.busy": "2022-08-24T11:15:08.547139Z",
     "iopub.status.idle": "2022-08-24T11:15:08.593349Z",
     "shell.execute_reply": "2022-08-24T11:15:08.592458Z"
    },
    "papermill": {
     "duration": 0.095396,
     "end_time": "2022-08-24T11:15:08.595258",
     "exception": false,
     "start_time": "2022-08-24T11:15:08.499862",
     "status": "completed"
    },
    "tags": []
   },
   "outputs": [
    {
     "data": {
      "text/plain": [
       "Date              0.000000\n",
       "Location          0.000000\n",
       "MinTemp           1.020899\n",
       "MaxTemp           0.866905\n",
       "Rainfall          2.241853\n",
       "Evaporation      43.166506\n",
       "Sunshine         48.009762\n",
       "WindGustDir       7.098859\n",
       "WindGustSpeed     7.055548\n",
       "WindDir9am        7.263853\n",
       "WindDir3pm        2.906641\n",
       "WindSpeed9am      1.214767\n",
       "WindSpeed3pm      2.105046\n",
       "Humidity9am       1.824557\n",
       "Humidity3pm       3.098446\n",
       "Pressure9am      10.356799\n",
       "Pressure3pm      10.331363\n",
       "Cloud9am         38.421559\n",
       "Cloud3pm         40.807095\n",
       "Temp9am           1.214767\n",
       "Temp3pm           2.481094\n",
       "RainToday         2.241853\n",
       "RainTomorrow      2.245978\n",
       "dtype: float64"
      ]
     },
     "execution_count": 49,
     "metadata": {},
     "output_type": "execute_result"
    }
   ],
   "source": [
    "df_preprocessed.isnull().mean() * 100"
   ]
  },
  {
   "cell_type": "code",
   "execution_count": 50,
   "id": "477990a9",
   "metadata": {
    "execution": {
     "iopub.execute_input": "2022-08-24T11:15:08.692718Z",
     "iopub.status.busy": "2022-08-24T11:15:08.692244Z",
     "iopub.status.idle": "2022-08-24T11:15:14.830096Z",
     "shell.execute_reply": "2022-08-24T11:15:14.829132Z"
    },
    "papermill": {
     "duration": 6.190638,
     "end_time": "2022-08-24T11:15:14.832787",
     "exception": false,
     "start_time": "2022-08-24T11:15:08.642149",
     "status": "completed"
    },
    "tags": []
   },
   "outputs": [
    {
     "data": {
      "text/plain": [
       "Date                 0\n",
       "Location             0\n",
       "MinTemp              0\n",
       "MaxTemp              0\n",
       "Rainfall             0\n",
       "Evaporation          0\n",
       "Sunshine             0\n",
       "WindGustDir      10326\n",
       "WindGustSpeed        0\n",
       "WindDir9am       10566\n",
       "WindDir3pm        4228\n",
       "WindSpeed9am         0\n",
       "WindSpeed3pm         0\n",
       "Humidity9am          0\n",
       "Humidity3pm          0\n",
       "Pressure9am          0\n",
       "Pressure3pm          0\n",
       "Cloud9am             0\n",
       "Cloud3pm             0\n",
       "Temp9am              0\n",
       "Temp3pm              0\n",
       "RainToday         3261\n",
       "RainTomorrow      3267\n",
       "dtype: int64"
      ]
     },
     "execution_count": 50,
     "metadata": {},
     "output_type": "execute_result"
    }
   ],
   "source": [
    "mean = df_preprocessed.mean()\n",
    "df_preprocessed.fillna(mean, inplace=True)\n",
    "\n",
    "df_preprocessed.isna().sum()"
   ]
  },
  {
   "cell_type": "code",
   "execution_count": 51,
   "id": "e6ef3fb5",
   "metadata": {
    "execution": {
     "iopub.execute_input": "2022-08-24T11:15:14.932439Z",
     "iopub.status.busy": "2022-08-24T11:15:14.931980Z",
     "iopub.status.idle": "2022-08-24T11:15:15.021362Z",
     "shell.execute_reply": "2022-08-24T11:15:15.020656Z"
    },
    "papermill": {
     "duration": 0.141915,
     "end_time": "2022-08-24T11:15:15.023198",
     "exception": false,
     "start_time": "2022-08-24T11:15:14.881283",
     "status": "completed"
    },
    "tags": []
   },
   "outputs": [
    {
     "data": {
      "text/plain": [
       "Date             0\n",
       "Location         0\n",
       "MinTemp          0\n",
       "MaxTemp          0\n",
       "Rainfall         0\n",
       "Evaporation      0\n",
       "Sunshine         0\n",
       "WindGustDir      0\n",
       "WindGustSpeed    0\n",
       "WindDir9am       0\n",
       "WindDir3pm       0\n",
       "WindSpeed9am     0\n",
       "WindSpeed3pm     0\n",
       "Humidity9am      0\n",
       "Humidity3pm      0\n",
       "Pressure9am      0\n",
       "Pressure3pm      0\n",
       "Cloud9am         0\n",
       "Cloud3pm         0\n",
       "Temp9am          0\n",
       "Temp3pm          0\n",
       "RainToday        0\n",
       "RainTomorrow     0\n",
       "dtype: int64"
      ]
     },
     "execution_count": 51,
     "metadata": {},
     "output_type": "execute_result"
    }
   ],
   "source": [
    "df_preprocessed.replace(np.nan, 'NaN', inplace=True)\n",
    "df_preprocessed.isna().sum()"
   ]
  },
  {
   "cell_type": "code",
   "execution_count": 52,
   "id": "4b890c3e",
   "metadata": {
    "execution": {
     "iopub.execute_input": "2022-08-24T11:15:15.120597Z",
     "iopub.status.busy": "2022-08-24T11:15:15.119943Z",
     "iopub.status.idle": "2022-08-24T11:15:15.144020Z",
     "shell.execute_reply": "2022-08-24T11:15:15.143229Z"
    },
    "papermill": {
     "duration": 0.074791,
     "end_time": "2022-08-24T11:15:15.145921",
     "exception": false,
     "start_time": "2022-08-24T11:15:15.071130",
     "status": "completed"
    },
    "tags": []
   },
   "outputs": [
    {
     "data": {
      "text/html": [
       "<div>\n",
       "<style scoped>\n",
       "    .dataframe tbody tr th:only-of-type {\n",
       "        vertical-align: middle;\n",
       "    }\n",
       "\n",
       "    .dataframe tbody tr th {\n",
       "        vertical-align: top;\n",
       "    }\n",
       "\n",
       "    .dataframe thead th {\n",
       "        text-align: right;\n",
       "    }\n",
       "</style>\n",
       "<table border=\"1\" class=\"dataframe\">\n",
       "  <thead>\n",
       "    <tr style=\"text-align: right;\">\n",
       "      <th></th>\n",
       "      <th>Date</th>\n",
       "      <th>Location</th>\n",
       "      <th>MinTemp</th>\n",
       "      <th>MaxTemp</th>\n",
       "      <th>Rainfall</th>\n",
       "      <th>Evaporation</th>\n",
       "      <th>Sunshine</th>\n",
       "      <th>WindGustDir</th>\n",
       "      <th>WindGustSpeed</th>\n",
       "      <th>WindDir9am</th>\n",
       "      <th>WindDir3pm</th>\n",
       "      <th>WindSpeed9am</th>\n",
       "      <th>WindSpeed3pm</th>\n",
       "      <th>Humidity9am</th>\n",
       "      <th>Humidity3pm</th>\n",
       "      <th>Pressure9am</th>\n",
       "      <th>Pressure3pm</th>\n",
       "      <th>Cloud9am</th>\n",
       "      <th>Cloud3pm</th>\n",
       "      <th>Temp9am</th>\n",
       "      <th>Temp3pm</th>\n",
       "      <th>RainToday</th>\n",
       "      <th>RainTomorrow</th>\n",
       "    </tr>\n",
       "  </thead>\n",
       "  <tbody>\n",
       "    <tr>\n",
       "      <th>0</th>\n",
       "      <td>2008-12-01</td>\n",
       "      <td>Albury</td>\n",
       "      <td>13.4</td>\n",
       "      <td>22.9</td>\n",
       "      <td>0.6</td>\n",
       "      <td>5.468232</td>\n",
       "      <td>7.611178</td>\n",
       "      <td>W</td>\n",
       "      <td>44.0</td>\n",
       "      <td>W</td>\n",
       "      <td>WNW</td>\n",
       "      <td>20.0</td>\n",
       "      <td>24.0</td>\n",
       "      <td>71.0</td>\n",
       "      <td>22.0</td>\n",
       "      <td>1007.7</td>\n",
       "      <td>1007.1</td>\n",
       "      <td>8.000000</td>\n",
       "      <td>4.50993</td>\n",
       "      <td>16.9</td>\n",
       "      <td>21.8</td>\n",
       "      <td>No</td>\n",
       "      <td>No</td>\n",
       "    </tr>\n",
       "    <tr>\n",
       "      <th>1</th>\n",
       "      <td>2008-12-02</td>\n",
       "      <td>Albury</td>\n",
       "      <td>7.4</td>\n",
       "      <td>25.1</td>\n",
       "      <td>0.0</td>\n",
       "      <td>5.468232</td>\n",
       "      <td>7.611178</td>\n",
       "      <td>WNW</td>\n",
       "      <td>44.0</td>\n",
       "      <td>NNW</td>\n",
       "      <td>WSW</td>\n",
       "      <td>4.0</td>\n",
       "      <td>22.0</td>\n",
       "      <td>44.0</td>\n",
       "      <td>25.0</td>\n",
       "      <td>1010.6</td>\n",
       "      <td>1007.8</td>\n",
       "      <td>4.447461</td>\n",
       "      <td>4.50993</td>\n",
       "      <td>17.2</td>\n",
       "      <td>24.3</td>\n",
       "      <td>No</td>\n",
       "      <td>No</td>\n",
       "    </tr>\n",
       "    <tr>\n",
       "      <th>2</th>\n",
       "      <td>2008-12-03</td>\n",
       "      <td>Albury</td>\n",
       "      <td>12.9</td>\n",
       "      <td>25.7</td>\n",
       "      <td>0.0</td>\n",
       "      <td>5.468232</td>\n",
       "      <td>7.611178</td>\n",
       "      <td>WSW</td>\n",
       "      <td>46.0</td>\n",
       "      <td>W</td>\n",
       "      <td>WSW</td>\n",
       "      <td>19.0</td>\n",
       "      <td>26.0</td>\n",
       "      <td>38.0</td>\n",
       "      <td>30.0</td>\n",
       "      <td>1007.6</td>\n",
       "      <td>1008.7</td>\n",
       "      <td>4.447461</td>\n",
       "      <td>2.00000</td>\n",
       "      <td>21.0</td>\n",
       "      <td>23.2</td>\n",
       "      <td>No</td>\n",
       "      <td>No</td>\n",
       "    </tr>\n",
       "    <tr>\n",
       "      <th>3</th>\n",
       "      <td>2008-12-04</td>\n",
       "      <td>Albury</td>\n",
       "      <td>9.2</td>\n",
       "      <td>28.0</td>\n",
       "      <td>0.0</td>\n",
       "      <td>5.468232</td>\n",
       "      <td>7.611178</td>\n",
       "      <td>NE</td>\n",
       "      <td>24.0</td>\n",
       "      <td>SE</td>\n",
       "      <td>E</td>\n",
       "      <td>11.0</td>\n",
       "      <td>9.0</td>\n",
       "      <td>45.0</td>\n",
       "      <td>16.0</td>\n",
       "      <td>1017.6</td>\n",
       "      <td>1012.8</td>\n",
       "      <td>4.447461</td>\n",
       "      <td>4.50993</td>\n",
       "      <td>18.1</td>\n",
       "      <td>26.5</td>\n",
       "      <td>No</td>\n",
       "      <td>No</td>\n",
       "    </tr>\n",
       "    <tr>\n",
       "      <th>4</th>\n",
       "      <td>2008-12-05</td>\n",
       "      <td>Albury</td>\n",
       "      <td>17.5</td>\n",
       "      <td>32.3</td>\n",
       "      <td>1.0</td>\n",
       "      <td>5.468232</td>\n",
       "      <td>7.611178</td>\n",
       "      <td>W</td>\n",
       "      <td>41.0</td>\n",
       "      <td>ENE</td>\n",
       "      <td>NW</td>\n",
       "      <td>7.0</td>\n",
       "      <td>20.0</td>\n",
       "      <td>82.0</td>\n",
       "      <td>33.0</td>\n",
       "      <td>1010.8</td>\n",
       "      <td>1006.0</td>\n",
       "      <td>7.000000</td>\n",
       "      <td>8.00000</td>\n",
       "      <td>17.8</td>\n",
       "      <td>29.7</td>\n",
       "      <td>No</td>\n",
       "      <td>No</td>\n",
       "    </tr>\n",
       "  </tbody>\n",
       "</table>\n",
       "</div>"
      ],
      "text/plain": [
       "         Date Location  MinTemp  MaxTemp  Rainfall  Evaporation  Sunshine  \\\n",
       "0  2008-12-01   Albury     13.4     22.9       0.6     5.468232  7.611178   \n",
       "1  2008-12-02   Albury      7.4     25.1       0.0     5.468232  7.611178   \n",
       "2  2008-12-03   Albury     12.9     25.7       0.0     5.468232  7.611178   \n",
       "3  2008-12-04   Albury      9.2     28.0       0.0     5.468232  7.611178   \n",
       "4  2008-12-05   Albury     17.5     32.3       1.0     5.468232  7.611178   \n",
       "\n",
       "  WindGustDir  WindGustSpeed WindDir9am WindDir3pm  WindSpeed9am  \\\n",
       "0           W           44.0          W        WNW          20.0   \n",
       "1         WNW           44.0        NNW        WSW           4.0   \n",
       "2         WSW           46.0          W        WSW          19.0   \n",
       "3          NE           24.0         SE          E          11.0   \n",
       "4           W           41.0        ENE         NW           7.0   \n",
       "\n",
       "   WindSpeed3pm  Humidity9am  Humidity3pm  Pressure9am  Pressure3pm  Cloud9am  \\\n",
       "0          24.0         71.0         22.0       1007.7       1007.1  8.000000   \n",
       "1          22.0         44.0         25.0       1010.6       1007.8  4.447461   \n",
       "2          26.0         38.0         30.0       1007.6       1008.7  4.447461   \n",
       "3           9.0         45.0         16.0       1017.6       1012.8  4.447461   \n",
       "4          20.0         82.0         33.0       1010.8       1006.0  7.000000   \n",
       "\n",
       "   Cloud3pm  Temp9am  Temp3pm RainToday RainTomorrow  \n",
       "0   4.50993     16.9     21.8        No           No  \n",
       "1   4.50993     17.2     24.3        No           No  \n",
       "2   2.00000     21.0     23.2        No           No  \n",
       "3   4.50993     18.1     26.5        No           No  \n",
       "4   8.00000     17.8     29.7        No           No  "
      ]
     },
     "execution_count": 52,
     "metadata": {},
     "output_type": "execute_result"
    }
   ],
   "source": [
    "df_preprocessed.head()"
   ]
  },
  {
   "cell_type": "code",
   "execution_count": 53,
   "id": "0d072e29",
   "metadata": {
    "execution": {
     "iopub.execute_input": "2022-08-24T11:15:15.244006Z",
     "iopub.status.busy": "2022-08-24T11:15:15.243352Z",
     "iopub.status.idle": "2022-08-24T11:15:15.266530Z",
     "shell.execute_reply": "2022-08-24T11:15:15.265622Z"
    },
    "papermill": {
     "duration": 0.074923,
     "end_time": "2022-08-24T11:15:15.268924",
     "exception": false,
     "start_time": "2022-08-24T11:15:15.194001",
     "status": "completed"
    },
    "tags": []
   },
   "outputs": [],
   "source": [
    "df_preprocessed['Date'] = pd.to_datetime(df_preprocessed['Date'])"
   ]
  },
  {
   "cell_type": "code",
   "execution_count": 54,
   "id": "620c22d4",
   "metadata": {
    "execution": {
     "iopub.execute_input": "2022-08-24T11:15:15.367616Z",
     "iopub.status.busy": "2022-08-24T11:15:15.366845Z",
     "iopub.status.idle": "2022-08-24T11:15:15.397371Z",
     "shell.execute_reply": "2022-08-24T11:15:15.395862Z"
    },
    "papermill": {
     "duration": 0.083954,
     "end_time": "2022-08-24T11:15:15.399980",
     "exception": false,
     "start_time": "2022-08-24T11:15:15.316026",
     "status": "completed"
    },
    "tags": []
   },
   "outputs": [],
   "source": [
    "#columns segregation\n",
    "date_columns = ['Date']\n",
    "cat_columns = df_preprocessed.select_dtypes(include=['object']).columns\n",
    "num_columns = df_preprocessed.select_dtypes(include=['float64', 'int64']).columns\n",
    "target_col = 'RainTomorrow'"
   ]
  },
  {
   "attachments": {},
   "cell_type": "markdown",
   "id": "3f5f486d",
   "metadata": {
    "papermill": {
     "duration": 0.046265,
     "end_time": "2022-08-24T11:15:15.493383",
     "exception": false,
     "start_time": "2022-08-24T11:15:15.447118",
     "status": "completed"
    },
    "tags": []
   },
   "source": [
    "##### encoding the categorical variables"
   ]
  },
  {
   "cell_type": "code",
   "execution_count": 55,
   "id": "d415d484",
   "metadata": {
    "execution": {
     "iopub.execute_input": "2022-08-24T11:15:15.590941Z",
     "iopub.status.busy": "2022-08-24T11:15:15.589881Z",
     "iopub.status.idle": "2022-08-24T11:15:15.615181Z",
     "shell.execute_reply": "2022-08-24T11:15:15.614505Z"
    },
    "papermill": {
     "duration": 0.076982,
     "end_time": "2022-08-24T11:15:15.617740",
     "exception": false,
     "start_time": "2022-08-24T11:15:15.540758",
     "status": "completed"
    },
    "tags": []
   },
   "outputs": [
    {
     "data": {
      "text/html": [
       "<div>\n",
       "<style scoped>\n",
       "    .dataframe tbody tr th:only-of-type {\n",
       "        vertical-align: middle;\n",
       "    }\n",
       "\n",
       "    .dataframe tbody tr th {\n",
       "        vertical-align: top;\n",
       "    }\n",
       "\n",
       "    .dataframe thead th {\n",
       "        text-align: right;\n",
       "    }\n",
       "</style>\n",
       "<table border=\"1\" class=\"dataframe\">\n",
       "  <thead>\n",
       "    <tr style=\"text-align: right;\">\n",
       "      <th></th>\n",
       "      <th>Date</th>\n",
       "      <th>Location</th>\n",
       "      <th>MinTemp</th>\n",
       "      <th>MaxTemp</th>\n",
       "      <th>Rainfall</th>\n",
       "      <th>Evaporation</th>\n",
       "      <th>Sunshine</th>\n",
       "      <th>WindGustDir</th>\n",
       "      <th>WindGustSpeed</th>\n",
       "      <th>WindDir9am</th>\n",
       "      <th>WindDir3pm</th>\n",
       "      <th>WindSpeed9am</th>\n",
       "      <th>WindSpeed3pm</th>\n",
       "      <th>Humidity9am</th>\n",
       "      <th>Humidity3pm</th>\n",
       "      <th>Pressure9am</th>\n",
       "      <th>Pressure3pm</th>\n",
       "      <th>Cloud9am</th>\n",
       "      <th>Cloud3pm</th>\n",
       "      <th>Temp9am</th>\n",
       "      <th>Temp3pm</th>\n",
       "      <th>RainToday</th>\n",
       "      <th>RainTomorrow</th>\n",
       "    </tr>\n",
       "  </thead>\n",
       "  <tbody>\n",
       "    <tr>\n",
       "      <th>0</th>\n",
       "      <td>2008-12-01</td>\n",
       "      <td>Albury</td>\n",
       "      <td>13.4</td>\n",
       "      <td>22.9</td>\n",
       "      <td>0.6</td>\n",
       "      <td>5.468232</td>\n",
       "      <td>7.611178</td>\n",
       "      <td>W</td>\n",
       "      <td>44.0</td>\n",
       "      <td>W</td>\n",
       "      <td>WNW</td>\n",
       "      <td>20.0</td>\n",
       "      <td>24.0</td>\n",
       "      <td>71.0</td>\n",
       "      <td>22.0</td>\n",
       "      <td>1007.7</td>\n",
       "      <td>1007.1</td>\n",
       "      <td>8.000000</td>\n",
       "      <td>4.50993</td>\n",
       "      <td>16.9</td>\n",
       "      <td>21.8</td>\n",
       "      <td>No</td>\n",
       "      <td>No</td>\n",
       "    </tr>\n",
       "    <tr>\n",
       "      <th>1</th>\n",
       "      <td>2008-12-02</td>\n",
       "      <td>Albury</td>\n",
       "      <td>7.4</td>\n",
       "      <td>25.1</td>\n",
       "      <td>0.0</td>\n",
       "      <td>5.468232</td>\n",
       "      <td>7.611178</td>\n",
       "      <td>WNW</td>\n",
       "      <td>44.0</td>\n",
       "      <td>NNW</td>\n",
       "      <td>WSW</td>\n",
       "      <td>4.0</td>\n",
       "      <td>22.0</td>\n",
       "      <td>44.0</td>\n",
       "      <td>25.0</td>\n",
       "      <td>1010.6</td>\n",
       "      <td>1007.8</td>\n",
       "      <td>4.447461</td>\n",
       "      <td>4.50993</td>\n",
       "      <td>17.2</td>\n",
       "      <td>24.3</td>\n",
       "      <td>No</td>\n",
       "      <td>No</td>\n",
       "    </tr>\n",
       "    <tr>\n",
       "      <th>2</th>\n",
       "      <td>2008-12-03</td>\n",
       "      <td>Albury</td>\n",
       "      <td>12.9</td>\n",
       "      <td>25.7</td>\n",
       "      <td>0.0</td>\n",
       "      <td>5.468232</td>\n",
       "      <td>7.611178</td>\n",
       "      <td>WSW</td>\n",
       "      <td>46.0</td>\n",
       "      <td>W</td>\n",
       "      <td>WSW</td>\n",
       "      <td>19.0</td>\n",
       "      <td>26.0</td>\n",
       "      <td>38.0</td>\n",
       "      <td>30.0</td>\n",
       "      <td>1007.6</td>\n",
       "      <td>1008.7</td>\n",
       "      <td>4.447461</td>\n",
       "      <td>2.00000</td>\n",
       "      <td>21.0</td>\n",
       "      <td>23.2</td>\n",
       "      <td>No</td>\n",
       "      <td>No</td>\n",
       "    </tr>\n",
       "    <tr>\n",
       "      <th>3</th>\n",
       "      <td>2008-12-04</td>\n",
       "      <td>Albury</td>\n",
       "      <td>9.2</td>\n",
       "      <td>28.0</td>\n",
       "      <td>0.0</td>\n",
       "      <td>5.468232</td>\n",
       "      <td>7.611178</td>\n",
       "      <td>NE</td>\n",
       "      <td>24.0</td>\n",
       "      <td>SE</td>\n",
       "      <td>E</td>\n",
       "      <td>11.0</td>\n",
       "      <td>9.0</td>\n",
       "      <td>45.0</td>\n",
       "      <td>16.0</td>\n",
       "      <td>1017.6</td>\n",
       "      <td>1012.8</td>\n",
       "      <td>4.447461</td>\n",
       "      <td>4.50993</td>\n",
       "      <td>18.1</td>\n",
       "      <td>26.5</td>\n",
       "      <td>No</td>\n",
       "      <td>No</td>\n",
       "    </tr>\n",
       "    <tr>\n",
       "      <th>4</th>\n",
       "      <td>2008-12-05</td>\n",
       "      <td>Albury</td>\n",
       "      <td>17.5</td>\n",
       "      <td>32.3</td>\n",
       "      <td>1.0</td>\n",
       "      <td>5.468232</td>\n",
       "      <td>7.611178</td>\n",
       "      <td>W</td>\n",
       "      <td>41.0</td>\n",
       "      <td>ENE</td>\n",
       "      <td>NW</td>\n",
       "      <td>7.0</td>\n",
       "      <td>20.0</td>\n",
       "      <td>82.0</td>\n",
       "      <td>33.0</td>\n",
       "      <td>1010.8</td>\n",
       "      <td>1006.0</td>\n",
       "      <td>7.000000</td>\n",
       "      <td>8.00000</td>\n",
       "      <td>17.8</td>\n",
       "      <td>29.7</td>\n",
       "      <td>No</td>\n",
       "      <td>No</td>\n",
       "    </tr>\n",
       "  </tbody>\n",
       "</table>\n",
       "</div>"
      ],
      "text/plain": [
       "        Date Location  MinTemp  MaxTemp  Rainfall  Evaporation  Sunshine  \\\n",
       "0 2008-12-01   Albury     13.4     22.9       0.6     5.468232  7.611178   \n",
       "1 2008-12-02   Albury      7.4     25.1       0.0     5.468232  7.611178   \n",
       "2 2008-12-03   Albury     12.9     25.7       0.0     5.468232  7.611178   \n",
       "3 2008-12-04   Albury      9.2     28.0       0.0     5.468232  7.611178   \n",
       "4 2008-12-05   Albury     17.5     32.3       1.0     5.468232  7.611178   \n",
       "\n",
       "  WindGustDir  WindGustSpeed WindDir9am WindDir3pm  WindSpeed9am  \\\n",
       "0           W           44.0          W        WNW          20.0   \n",
       "1         WNW           44.0        NNW        WSW           4.0   \n",
       "2         WSW           46.0          W        WSW          19.0   \n",
       "3          NE           24.0         SE          E          11.0   \n",
       "4           W           41.0        ENE         NW           7.0   \n",
       "\n",
       "   WindSpeed3pm  Humidity9am  Humidity3pm  Pressure9am  Pressure3pm  Cloud9am  \\\n",
       "0          24.0         71.0         22.0       1007.7       1007.1  8.000000   \n",
       "1          22.0         44.0         25.0       1010.6       1007.8  4.447461   \n",
       "2          26.0         38.0         30.0       1007.6       1008.7  4.447461   \n",
       "3           9.0         45.0         16.0       1017.6       1012.8  4.447461   \n",
       "4          20.0         82.0         33.0       1010.8       1006.0  7.000000   \n",
       "\n",
       "   Cloud3pm  Temp9am  Temp3pm RainToday RainTomorrow  \n",
       "0   4.50993     16.9     21.8        No           No  \n",
       "1   4.50993     17.2     24.3        No           No  \n",
       "2   2.00000     21.0     23.2        No           No  \n",
       "3   4.50993     18.1     26.5        No           No  \n",
       "4   8.00000     17.8     29.7        No           No  "
      ]
     },
     "execution_count": 55,
     "metadata": {},
     "output_type": "execute_result"
    }
   ],
   "source": [
    "df_preprocessed.head()"
   ]
  },
  {
   "cell_type": "code",
   "execution_count": 56,
   "id": "9a26efa1",
   "metadata": {
    "execution": {
     "iopub.execute_input": "2022-08-24T11:15:15.716412Z",
     "iopub.status.busy": "2022-08-24T11:15:15.715949Z",
     "iopub.status.idle": "2022-08-24T11:15:15.722674Z",
     "shell.execute_reply": "2022-08-24T11:15:15.721835Z"
    },
    "papermill": {
     "duration": 0.05883,
     "end_time": "2022-08-24T11:15:15.724466",
     "exception": false,
     "start_time": "2022-08-24T11:15:15.665636",
     "status": "completed"
    },
    "tags": []
   },
   "outputs": [
    {
     "data": {
      "text/plain": [
       "Index(['Location', 'WindGustDir', 'WindDir9am', 'WindDir3pm', 'RainToday',\n",
       "       'RainTomorrow'],\n",
       "      dtype='object')"
      ]
     },
     "execution_count": 56,
     "metadata": {},
     "output_type": "execute_result"
    }
   ],
   "source": [
    "cat_columns"
   ]
  },
  {
   "cell_type": "code",
   "execution_count": 57,
   "id": "c980136d",
   "metadata": {
    "execution": {
     "iopub.execute_input": "2022-08-24T11:15:15.823708Z",
     "iopub.status.busy": "2022-08-24T11:15:15.823025Z",
     "iopub.status.idle": "2022-08-24T11:15:15.884522Z",
     "shell.execute_reply": "2022-08-24T11:15:15.883596Z"
    },
    "papermill": {
     "duration": 0.114139,
     "end_time": "2022-08-24T11:15:15.886854",
     "exception": false,
     "start_time": "2022-08-24T11:15:15.772715",
     "status": "completed"
    },
    "tags": []
   },
   "outputs": [
    {
     "name": "stdout",
     "output_type": "stream",
     "text": [
      "Unique Values in Location Column: 49\n",
      "-----------------------------------------------------\n",
      "Unique Values in WindGustDir Column: 17\n",
      "-----------------------------------------------------\n",
      "Unique Values in WindDir9am Column: 17\n",
      "-----------------------------------------------------\n",
      "Unique Values in WindDir3pm Column: 17\n",
      "-----------------------------------------------------\n",
      "Unique Values in RainToday Column: 3\n",
      "-----------------------------------------------------\n",
      "Unique Values in RainTomorrow Column: 3\n",
      "-----------------------------------------------------\n"
     ]
    }
   ],
   "source": [
    "for i in cat_columns:\n",
    "    print('Unique Values in ' + i + ' Column:', end = \" \")\n",
    "    print(len(df_preprocessed[i].unique()))\n",
    "    print('-----------------------------------------------------')"
   ]
  },
  {
   "cell_type": "code",
   "execution_count": 58,
   "id": "c6fdd723",
   "metadata": {
    "execution": {
     "iopub.execute_input": "2022-08-24T11:15:15.989276Z",
     "iopub.status.busy": "2022-08-24T11:15:15.988269Z",
     "iopub.status.idle": "2022-08-24T11:15:16.284615Z",
     "shell.execute_reply": "2022-08-24T11:15:16.283452Z"
    },
    "papermill": {
     "duration": 0.350632,
     "end_time": "2022-08-24T11:15:16.286794",
     "exception": false,
     "start_time": "2022-08-24T11:15:15.936162",
     "status": "completed"
    },
    "tags": []
   },
   "outputs": [
    {
     "data": {
      "text/html": [
       "<div>\n",
       "<style scoped>\n",
       "    .dataframe tbody tr th:only-of-type {\n",
       "        vertical-align: middle;\n",
       "    }\n",
       "\n",
       "    .dataframe tbody tr th {\n",
       "        vertical-align: top;\n",
       "    }\n",
       "\n",
       "    .dataframe thead th {\n",
       "        text-align: right;\n",
       "    }\n",
       "</style>\n",
       "<table border=\"1\" class=\"dataframe\">\n",
       "  <thead>\n",
       "    <tr style=\"text-align: right;\">\n",
       "      <th></th>\n",
       "      <th>Date</th>\n",
       "      <th>Location</th>\n",
       "      <th>MinTemp</th>\n",
       "      <th>MaxTemp</th>\n",
       "      <th>Rainfall</th>\n",
       "      <th>Evaporation</th>\n",
       "      <th>Sunshine</th>\n",
       "      <th>WindGustDir</th>\n",
       "      <th>WindGustSpeed</th>\n",
       "      <th>WindDir9am</th>\n",
       "      <th>WindDir3pm</th>\n",
       "      <th>WindSpeed9am</th>\n",
       "      <th>WindSpeed3pm</th>\n",
       "      <th>Humidity9am</th>\n",
       "      <th>Humidity3pm</th>\n",
       "      <th>Pressure9am</th>\n",
       "      <th>Pressure3pm</th>\n",
       "      <th>Cloud9am</th>\n",
       "      <th>Cloud3pm</th>\n",
       "      <th>Temp9am</th>\n",
       "      <th>Temp3pm</th>\n",
       "      <th>RainToday</th>\n",
       "      <th>RainTomorrow</th>\n",
       "    </tr>\n",
       "  </thead>\n",
       "  <tbody>\n",
       "    <tr>\n",
       "      <th>0</th>\n",
       "      <td>2008-12-01</td>\n",
       "      <td>2</td>\n",
       "      <td>13.4</td>\n",
       "      <td>22.9</td>\n",
       "      <td>0.6</td>\n",
       "      <td>5.468232</td>\n",
       "      <td>7.611178</td>\n",
       "      <td>14</td>\n",
       "      <td>44.0</td>\n",
       "      <td>14</td>\n",
       "      <td>15</td>\n",
       "      <td>20.0</td>\n",
       "      <td>24.0</td>\n",
       "      <td>71.0</td>\n",
       "      <td>22.0</td>\n",
       "      <td>1007.7</td>\n",
       "      <td>1007.1</td>\n",
       "      <td>8.000000</td>\n",
       "      <td>4.50993</td>\n",
       "      <td>16.9</td>\n",
       "      <td>21.8</td>\n",
       "      <td>No</td>\n",
       "      <td>No</td>\n",
       "    </tr>\n",
       "    <tr>\n",
       "      <th>1</th>\n",
       "      <td>2008-12-02</td>\n",
       "      <td>2</td>\n",
       "      <td>7.4</td>\n",
       "      <td>25.1</td>\n",
       "      <td>0.0</td>\n",
       "      <td>5.468232</td>\n",
       "      <td>7.611178</td>\n",
       "      <td>15</td>\n",
       "      <td>44.0</td>\n",
       "      <td>6</td>\n",
       "      <td>16</td>\n",
       "      <td>4.0</td>\n",
       "      <td>22.0</td>\n",
       "      <td>44.0</td>\n",
       "      <td>25.0</td>\n",
       "      <td>1010.6</td>\n",
       "      <td>1007.8</td>\n",
       "      <td>4.447461</td>\n",
       "      <td>4.50993</td>\n",
       "      <td>17.2</td>\n",
       "      <td>24.3</td>\n",
       "      <td>No</td>\n",
       "      <td>No</td>\n",
       "    </tr>\n",
       "    <tr>\n",
       "      <th>2</th>\n",
       "      <td>2008-12-03</td>\n",
       "      <td>2</td>\n",
       "      <td>12.9</td>\n",
       "      <td>25.7</td>\n",
       "      <td>0.0</td>\n",
       "      <td>5.468232</td>\n",
       "      <td>7.611178</td>\n",
       "      <td>16</td>\n",
       "      <td>46.0</td>\n",
       "      <td>14</td>\n",
       "      <td>16</td>\n",
       "      <td>19.0</td>\n",
       "      <td>26.0</td>\n",
       "      <td>38.0</td>\n",
       "      <td>30.0</td>\n",
       "      <td>1007.6</td>\n",
       "      <td>1008.7</td>\n",
       "      <td>4.447461</td>\n",
       "      <td>2.00000</td>\n",
       "      <td>21.0</td>\n",
       "      <td>23.2</td>\n",
       "      <td>No</td>\n",
       "      <td>No</td>\n",
       "    </tr>\n",
       "    <tr>\n",
       "      <th>3</th>\n",
       "      <td>2008-12-04</td>\n",
       "      <td>2</td>\n",
       "      <td>9.2</td>\n",
       "      <td>28.0</td>\n",
       "      <td>0.0</td>\n",
       "      <td>5.468232</td>\n",
       "      <td>7.611178</td>\n",
       "      <td>4</td>\n",
       "      <td>24.0</td>\n",
       "      <td>10</td>\n",
       "      <td>0</td>\n",
       "      <td>11.0</td>\n",
       "      <td>9.0</td>\n",
       "      <td>45.0</td>\n",
       "      <td>16.0</td>\n",
       "      <td>1017.6</td>\n",
       "      <td>1012.8</td>\n",
       "      <td>4.447461</td>\n",
       "      <td>4.50993</td>\n",
       "      <td>18.1</td>\n",
       "      <td>26.5</td>\n",
       "      <td>No</td>\n",
       "      <td>No</td>\n",
       "    </tr>\n",
       "    <tr>\n",
       "      <th>4</th>\n",
       "      <td>2008-12-05</td>\n",
       "      <td>2</td>\n",
       "      <td>17.5</td>\n",
       "      <td>32.3</td>\n",
       "      <td>1.0</td>\n",
       "      <td>5.468232</td>\n",
       "      <td>7.611178</td>\n",
       "      <td>14</td>\n",
       "      <td>41.0</td>\n",
       "      <td>1</td>\n",
       "      <td>7</td>\n",
       "      <td>7.0</td>\n",
       "      <td>20.0</td>\n",
       "      <td>82.0</td>\n",
       "      <td>33.0</td>\n",
       "      <td>1010.8</td>\n",
       "      <td>1006.0</td>\n",
       "      <td>7.000000</td>\n",
       "      <td>8.00000</td>\n",
       "      <td>17.8</td>\n",
       "      <td>29.7</td>\n",
       "      <td>No</td>\n",
       "      <td>No</td>\n",
       "    </tr>\n",
       "  </tbody>\n",
       "</table>\n",
       "</div>"
      ],
      "text/plain": [
       "        Date  Location  MinTemp  MaxTemp  Rainfall  Evaporation  Sunshine  \\\n",
       "0 2008-12-01         2     13.4     22.9       0.6     5.468232  7.611178   \n",
       "1 2008-12-02         2      7.4     25.1       0.0     5.468232  7.611178   \n",
       "2 2008-12-03         2     12.9     25.7       0.0     5.468232  7.611178   \n",
       "3 2008-12-04         2      9.2     28.0       0.0     5.468232  7.611178   \n",
       "4 2008-12-05         2     17.5     32.3       1.0     5.468232  7.611178   \n",
       "\n",
       "   WindGustDir  WindGustSpeed  WindDir9am  WindDir3pm  WindSpeed9am  \\\n",
       "0           14           44.0          14          15          20.0   \n",
       "1           15           44.0           6          16           4.0   \n",
       "2           16           46.0          14          16          19.0   \n",
       "3            4           24.0          10           0          11.0   \n",
       "4           14           41.0           1           7           7.0   \n",
       "\n",
       "   WindSpeed3pm  Humidity9am  Humidity3pm  Pressure9am  Pressure3pm  Cloud9am  \\\n",
       "0          24.0         71.0         22.0       1007.7       1007.1  8.000000   \n",
       "1          22.0         44.0         25.0       1010.6       1007.8  4.447461   \n",
       "2          26.0         38.0         30.0       1007.6       1008.7  4.447461   \n",
       "3           9.0         45.0         16.0       1017.6       1012.8  4.447461   \n",
       "4          20.0         82.0         33.0       1010.8       1006.0  7.000000   \n",
       "\n",
       "   Cloud3pm  Temp9am  Temp3pm RainToday RainTomorrow  \n",
       "0   4.50993     16.9     21.8        No           No  \n",
       "1   4.50993     17.2     24.3        No           No  \n",
       "2   2.00000     21.0     23.2        No           No  \n",
       "3   4.50993     18.1     26.5        No           No  \n",
       "4   8.00000     17.8     29.7        No           No  "
      ]
     },
     "execution_count": 58,
     "metadata": {},
     "output_type": "execute_result"
    }
   ],
   "source": [
    "le = LabelEncoder()\n",
    "for i in ['Location','WindGustDir','WindDir9am','WindDir3pm']:\n",
    "    df_preprocessed[i] = le.fit_transform(df_preprocessed[i])\n",
    "df_preprocessed.head()"
   ]
  },
  {
   "cell_type": "code",
   "execution_count": 59,
   "id": "cf8367c1",
   "metadata": {
    "execution": {
     "iopub.execute_input": "2022-08-24T11:15:16.386101Z",
     "iopub.status.busy": "2022-08-24T11:15:16.385320Z",
     "iopub.status.idle": "2022-08-24T11:15:16.409170Z",
     "shell.execute_reply": "2022-08-24T11:15:16.408218Z"
    },
    "papermill": {
     "duration": 0.075213,
     "end_time": "2022-08-24T11:15:16.410892",
     "exception": false,
     "start_time": "2022-08-24T11:15:16.335679",
     "status": "completed"
    },
    "tags": []
   },
   "outputs": [
    {
     "data": {
      "text/plain": [
       "RainToday\n",
       "No           110319\n",
       "Yes           31880\n",
       "NaN            3261\n",
       "dtype: int64"
      ]
     },
     "execution_count": 59,
     "metadata": {},
     "output_type": "execute_result"
    }
   ],
   "source": [
    "df_preprocessed[['RainToday']].value_counts()"
   ]
  },
  {
   "cell_type": "code",
   "execution_count": 60,
   "id": "5e19ee54",
   "metadata": {
    "execution": {
     "iopub.execute_input": "2022-08-24T11:15:16.512760Z",
     "iopub.status.busy": "2022-08-24T11:15:16.511994Z",
     "iopub.status.idle": "2022-08-24T11:15:16.534054Z",
     "shell.execute_reply": "2022-08-24T11:15:16.533103Z"
    },
    "papermill": {
     "duration": 0.075916,
     "end_time": "2022-08-24T11:15:16.536131",
     "exception": false,
     "start_time": "2022-08-24T11:15:16.460215",
     "status": "completed"
    },
    "tags": []
   },
   "outputs": [
    {
     "data": {
      "text/plain": [
       "RainTomorrow\n",
       "No              110316\n",
       "Yes              31877\n",
       "NaN               3267\n",
       "dtype: int64"
      ]
     },
     "execution_count": 60,
     "metadata": {},
     "output_type": "execute_result"
    }
   ],
   "source": [
    "df_preprocessed[['RainTomorrow']].value_counts()"
   ]
  },
  {
   "cell_type": "code",
   "execution_count": 61,
   "id": "204f8ddc",
   "metadata": {
    "execution": {
     "iopub.execute_input": "2022-08-24T11:15:16.637181Z",
     "iopub.status.busy": "2022-08-24T11:15:16.636531Z",
     "iopub.status.idle": "2022-08-24T11:15:16.658791Z",
     "shell.execute_reply": "2022-08-24T11:15:16.657900Z"
    },
    "papermill": {
     "duration": 0.074606,
     "end_time": "2022-08-24T11:15:16.660598",
     "exception": false,
     "start_time": "2022-08-24T11:15:16.585992",
     "status": "completed"
    },
    "tags": []
   },
   "outputs": [
    {
     "data": {
      "text/plain": [
       "RainToday       0\n",
       "RainTomorrow    0\n",
       "dtype: int64"
      ]
     },
     "execution_count": 61,
     "metadata": {},
     "output_type": "execute_result"
    }
   ],
   "source": [
    "df_preprocessed[['RainToday','RainTomorrow']].isna().sum()"
   ]
  },
  {
   "cell_type": "code",
   "execution_count": 62,
   "id": "c4a84786",
   "metadata": {
    "execution": {
     "iopub.execute_input": "2022-08-24T11:15:16.760104Z",
     "iopub.status.busy": "2022-08-24T11:15:16.759463Z",
     "iopub.status.idle": "2022-08-24T11:15:16.801104Z",
     "shell.execute_reply": "2022-08-24T11:15:16.800066Z"
    },
    "papermill": {
     "duration": 0.093975,
     "end_time": "2022-08-24T11:15:16.803442",
     "exception": false,
     "start_time": "2022-08-24T11:15:16.709467",
     "status": "completed"
    },
    "tags": []
   },
   "outputs": [],
   "source": [
    "df_clean = df_preprocessed[(df_preprocessed != \"NaN\").all(axis=1)]\n",
    "del df_preprocessed"
   ]
  },
  {
   "cell_type": "code",
   "execution_count": 63,
   "id": "6f29fcb2",
   "metadata": {
    "execution": {
     "iopub.execute_input": "2022-08-24T11:15:16.904326Z",
     "iopub.status.busy": "2022-08-24T11:15:16.903461Z",
     "iopub.status.idle": "2022-08-24T11:15:16.918149Z",
     "shell.execute_reply": "2022-08-24T11:15:16.917394Z"
    },
    "papermill": {
     "duration": 0.068205,
     "end_time": "2022-08-24T11:15:16.920237",
     "exception": false,
     "start_time": "2022-08-24T11:15:16.852032",
     "status": "completed"
    },
    "tags": []
   },
   "outputs": [
    {
     "data": {
      "text/plain": [
       "No     109332\n",
       "Yes     31455\n",
       "Name: RainToday, dtype: int64"
      ]
     },
     "execution_count": 63,
     "metadata": {},
     "output_type": "execute_result"
    }
   ],
   "source": [
    "df_clean['RainToday'].value_counts()"
   ]
  },
  {
   "cell_type": "code",
   "execution_count": 64,
   "id": "3a631a5d",
   "metadata": {
    "execution": {
     "iopub.execute_input": "2022-08-24T11:15:17.020021Z",
     "iopub.status.busy": "2022-08-24T11:15:17.019169Z",
     "iopub.status.idle": "2022-08-24T11:15:17.042236Z",
     "shell.execute_reply": "2022-08-24T11:15:17.041462Z"
    },
    "papermill": {
     "duration": 0.076041,
     "end_time": "2022-08-24T11:15:17.044678",
     "exception": false,
     "start_time": "2022-08-24T11:15:16.968637",
     "status": "completed"
    },
    "tags": []
   },
   "outputs": [],
   "source": [
    "label_dict = {'No': 0,'Yes':1}\n",
    "df_clean['RainTomorrow'] = df_clean['RainTomorrow'].map(label_dict)\n",
    "df_clean['RainToday'] = df_clean['RainToday'].map(label_dict)"
   ]
  },
  {
   "cell_type": "code",
   "execution_count": 65,
   "id": "4f766b1f",
   "metadata": {
    "execution": {
     "iopub.execute_input": "2022-08-24T11:15:17.145665Z",
     "iopub.status.busy": "2022-08-24T11:15:17.144887Z",
     "iopub.status.idle": "2022-08-24T11:15:17.167817Z",
     "shell.execute_reply": "2022-08-24T11:15:17.167034Z"
    },
    "papermill": {
     "duration": 0.075139,
     "end_time": "2022-08-24T11:15:17.169668",
     "exception": false,
     "start_time": "2022-08-24T11:15:17.094529",
     "status": "completed"
    },
    "tags": []
   },
   "outputs": [
    {
     "data": {
      "text/html": [
       "<div>\n",
       "<style scoped>\n",
       "    .dataframe tbody tr th:only-of-type {\n",
       "        vertical-align: middle;\n",
       "    }\n",
       "\n",
       "    .dataframe tbody tr th {\n",
       "        vertical-align: top;\n",
       "    }\n",
       "\n",
       "    .dataframe thead th {\n",
       "        text-align: right;\n",
       "    }\n",
       "</style>\n",
       "<table border=\"1\" class=\"dataframe\">\n",
       "  <thead>\n",
       "    <tr style=\"text-align: right;\">\n",
       "      <th></th>\n",
       "      <th>Date</th>\n",
       "      <th>Location</th>\n",
       "      <th>MinTemp</th>\n",
       "      <th>MaxTemp</th>\n",
       "      <th>Rainfall</th>\n",
       "      <th>Evaporation</th>\n",
       "      <th>Sunshine</th>\n",
       "      <th>WindGustDir</th>\n",
       "      <th>WindGustSpeed</th>\n",
       "      <th>WindDir9am</th>\n",
       "      <th>WindDir3pm</th>\n",
       "      <th>WindSpeed9am</th>\n",
       "      <th>WindSpeed3pm</th>\n",
       "      <th>Humidity9am</th>\n",
       "      <th>Humidity3pm</th>\n",
       "      <th>Pressure9am</th>\n",
       "      <th>Pressure3pm</th>\n",
       "      <th>Cloud9am</th>\n",
       "      <th>Cloud3pm</th>\n",
       "      <th>Temp9am</th>\n",
       "      <th>Temp3pm</th>\n",
       "      <th>RainToday</th>\n",
       "      <th>RainTomorrow</th>\n",
       "    </tr>\n",
       "  </thead>\n",
       "  <tbody>\n",
       "    <tr>\n",
       "      <th>0</th>\n",
       "      <td>2008-12-01</td>\n",
       "      <td>2</td>\n",
       "      <td>13.4</td>\n",
       "      <td>22.9</td>\n",
       "      <td>0.6</td>\n",
       "      <td>5.468232</td>\n",
       "      <td>7.611178</td>\n",
       "      <td>14</td>\n",
       "      <td>44.0</td>\n",
       "      <td>14</td>\n",
       "      <td>15</td>\n",
       "      <td>20.0</td>\n",
       "      <td>24.0</td>\n",
       "      <td>71.0</td>\n",
       "      <td>22.0</td>\n",
       "      <td>1007.7</td>\n",
       "      <td>1007.1</td>\n",
       "      <td>8.000000</td>\n",
       "      <td>4.50993</td>\n",
       "      <td>16.9</td>\n",
       "      <td>21.8</td>\n",
       "      <td>0</td>\n",
       "      <td>0</td>\n",
       "    </tr>\n",
       "    <tr>\n",
       "      <th>1</th>\n",
       "      <td>2008-12-02</td>\n",
       "      <td>2</td>\n",
       "      <td>7.4</td>\n",
       "      <td>25.1</td>\n",
       "      <td>0.0</td>\n",
       "      <td>5.468232</td>\n",
       "      <td>7.611178</td>\n",
       "      <td>15</td>\n",
       "      <td>44.0</td>\n",
       "      <td>6</td>\n",
       "      <td>16</td>\n",
       "      <td>4.0</td>\n",
       "      <td>22.0</td>\n",
       "      <td>44.0</td>\n",
       "      <td>25.0</td>\n",
       "      <td>1010.6</td>\n",
       "      <td>1007.8</td>\n",
       "      <td>4.447461</td>\n",
       "      <td>4.50993</td>\n",
       "      <td>17.2</td>\n",
       "      <td>24.3</td>\n",
       "      <td>0</td>\n",
       "      <td>0</td>\n",
       "    </tr>\n",
       "    <tr>\n",
       "      <th>2</th>\n",
       "      <td>2008-12-03</td>\n",
       "      <td>2</td>\n",
       "      <td>12.9</td>\n",
       "      <td>25.7</td>\n",
       "      <td>0.0</td>\n",
       "      <td>5.468232</td>\n",
       "      <td>7.611178</td>\n",
       "      <td>16</td>\n",
       "      <td>46.0</td>\n",
       "      <td>14</td>\n",
       "      <td>16</td>\n",
       "      <td>19.0</td>\n",
       "      <td>26.0</td>\n",
       "      <td>38.0</td>\n",
       "      <td>30.0</td>\n",
       "      <td>1007.6</td>\n",
       "      <td>1008.7</td>\n",
       "      <td>4.447461</td>\n",
       "      <td>2.00000</td>\n",
       "      <td>21.0</td>\n",
       "      <td>23.2</td>\n",
       "      <td>0</td>\n",
       "      <td>0</td>\n",
       "    </tr>\n",
       "    <tr>\n",
       "      <th>3</th>\n",
       "      <td>2008-12-04</td>\n",
       "      <td>2</td>\n",
       "      <td>9.2</td>\n",
       "      <td>28.0</td>\n",
       "      <td>0.0</td>\n",
       "      <td>5.468232</td>\n",
       "      <td>7.611178</td>\n",
       "      <td>4</td>\n",
       "      <td>24.0</td>\n",
       "      <td>10</td>\n",
       "      <td>0</td>\n",
       "      <td>11.0</td>\n",
       "      <td>9.0</td>\n",
       "      <td>45.0</td>\n",
       "      <td>16.0</td>\n",
       "      <td>1017.6</td>\n",
       "      <td>1012.8</td>\n",
       "      <td>4.447461</td>\n",
       "      <td>4.50993</td>\n",
       "      <td>18.1</td>\n",
       "      <td>26.5</td>\n",
       "      <td>0</td>\n",
       "      <td>0</td>\n",
       "    </tr>\n",
       "    <tr>\n",
       "      <th>4</th>\n",
       "      <td>2008-12-05</td>\n",
       "      <td>2</td>\n",
       "      <td>17.5</td>\n",
       "      <td>32.3</td>\n",
       "      <td>1.0</td>\n",
       "      <td>5.468232</td>\n",
       "      <td>7.611178</td>\n",
       "      <td>14</td>\n",
       "      <td>41.0</td>\n",
       "      <td>1</td>\n",
       "      <td>7</td>\n",
       "      <td>7.0</td>\n",
       "      <td>20.0</td>\n",
       "      <td>82.0</td>\n",
       "      <td>33.0</td>\n",
       "      <td>1010.8</td>\n",
       "      <td>1006.0</td>\n",
       "      <td>7.000000</td>\n",
       "      <td>8.00000</td>\n",
       "      <td>17.8</td>\n",
       "      <td>29.7</td>\n",
       "      <td>0</td>\n",
       "      <td>0</td>\n",
       "    </tr>\n",
       "  </tbody>\n",
       "</table>\n",
       "</div>"
      ],
      "text/plain": [
       "        Date  Location  MinTemp  MaxTemp  Rainfall  Evaporation  Sunshine  \\\n",
       "0 2008-12-01         2     13.4     22.9       0.6     5.468232  7.611178   \n",
       "1 2008-12-02         2      7.4     25.1       0.0     5.468232  7.611178   \n",
       "2 2008-12-03         2     12.9     25.7       0.0     5.468232  7.611178   \n",
       "3 2008-12-04         2      9.2     28.0       0.0     5.468232  7.611178   \n",
       "4 2008-12-05         2     17.5     32.3       1.0     5.468232  7.611178   \n",
       "\n",
       "   WindGustDir  WindGustSpeed  WindDir9am  WindDir3pm  WindSpeed9am  \\\n",
       "0           14           44.0          14          15          20.0   \n",
       "1           15           44.0           6          16           4.0   \n",
       "2           16           46.0          14          16          19.0   \n",
       "3            4           24.0          10           0          11.0   \n",
       "4           14           41.0           1           7           7.0   \n",
       "\n",
       "   WindSpeed3pm  Humidity9am  Humidity3pm  Pressure9am  Pressure3pm  Cloud9am  \\\n",
       "0          24.0         71.0         22.0       1007.7       1007.1  8.000000   \n",
       "1          22.0         44.0         25.0       1010.6       1007.8  4.447461   \n",
       "2          26.0         38.0         30.0       1007.6       1008.7  4.447461   \n",
       "3           9.0         45.0         16.0       1017.6       1012.8  4.447461   \n",
       "4          20.0         82.0         33.0       1010.8       1006.0  7.000000   \n",
       "\n",
       "   Cloud3pm  Temp9am  Temp3pm  RainToday  RainTomorrow  \n",
       "0   4.50993     16.9     21.8          0             0  \n",
       "1   4.50993     17.2     24.3          0             0  \n",
       "2   2.00000     21.0     23.2          0             0  \n",
       "3   4.50993     18.1     26.5          0             0  \n",
       "4   8.00000     17.8     29.7          0             0  "
      ]
     },
     "execution_count": 65,
     "metadata": {},
     "output_type": "execute_result"
    }
   ],
   "source": [
    "df_clean.head()"
   ]
  },
  {
   "cell_type": "code",
   "execution_count": 66,
   "id": "3c510c14",
   "metadata": {
    "execution": {
     "iopub.execute_input": "2022-08-24T11:15:17.270747Z",
     "iopub.status.busy": "2022-08-24T11:15:17.269932Z",
     "iopub.status.idle": "2022-08-24T11:15:17.283662Z",
     "shell.execute_reply": "2022-08-24T11:15:17.282872Z"
    },
    "papermill": {
     "duration": 0.066504,
     "end_time": "2022-08-24T11:15:17.285660",
     "exception": false,
     "start_time": "2022-08-24T11:15:17.219156",
     "status": "completed"
    },
    "tags": []
   },
   "outputs": [],
   "source": [
    "# removing Date Column\n",
    "df_clean.drop(['Date'], axis=1, inplace=True)"
   ]
  },
  {
   "cell_type": "code",
   "execution_count": 67,
   "id": "7f81eb6a",
   "metadata": {},
   "outputs": [],
   "source": [
    "df_clean.reset_index(drop=True, inplace=True)"
   ]
  },
  {
   "cell_type": "code",
   "execution_count": 68,
   "id": "c48393c8",
   "metadata": {},
   "outputs": [],
   "source": [
    "# train test split\n",
    "X = df_clean.drop(columns=[\"RainTomorrow\"])\n",
    "y = df_clean[\"RainTomorrow\"]\n",
    "\n",
    "X_train, X_test, y_train, y_test = train_test_split(X, y, test_size=0.3, random_state=42)"
   ]
  },
  {
   "cell_type": "code",
   "execution_count": 69,
   "id": "89654742",
   "metadata": {},
   "outputs": [],
   "source": [
    "# scaler = MinMaxScaler()\n",
    "# X_train = scaler.fit_transform(X_train)\n",
    "# X_test = scaler.transform(X_test)"
   ]
  },
  {
   "attachments": {},
   "cell_type": "markdown",
   "id": "d32f8299",
   "metadata": {
    "papermill": {
     "duration": 0.049063,
     "end_time": "2022-08-24T11:15:18.052056",
     "exception": false,
     "start_time": "2022-08-24T11:15:18.002993",
     "status": "completed"
    },
    "tags": []
   },
   "source": [
    "# Feature Selection\n"
   ]
  },
  {
   "cell_type": "code",
   "execution_count": 70,
   "id": "0aa3f425",
   "metadata": {
    "execution": {
     "iopub.execute_input": "2022-08-24T11:15:18.152864Z",
     "iopub.status.busy": "2022-08-24T11:15:18.152186Z",
     "iopub.status.idle": "2022-08-24T11:15:18.325196Z",
     "shell.execute_reply": "2022-08-24T11:15:18.324118Z"
    },
    "papermill": {
     "duration": 0.227047,
     "end_time": "2022-08-24T11:15:18.327622",
     "exception": false,
     "start_time": "2022-08-24T11:15:18.100575",
     "status": "completed"
    },
    "tags": []
   },
   "outputs": [],
   "source": [
    "fs = SelectKBest(k=3)\n",
    "X_train = fs.fit_transform(X_train, y_train)\n",
    "X_test = fs.transform(X_test)"
   ]
  },
  {
   "cell_type": "code",
   "execution_count": 71,
   "id": "f1618af5",
   "metadata": {},
   "outputs": [
    {
     "name": "stdout",
     "output_type": "stream",
     "text": [
      "X_train shape: (98550, 3)\n",
      "X_test shape: (42237, 3)\n"
     ]
    }
   ],
   "source": [
    "print(\"X_train shape:\", X_train.shape)\n",
    "print(\"X_test shape:\", X_test.shape)"
   ]
  },
  {
   "cell_type": "code",
   "execution_count": 72,
   "id": "5bde32f1",
   "metadata": {},
   "outputs": [
    {
     "data": {
      "text/html": [
       "<div>\n",
       "<style scoped>\n",
       "    .dataframe tbody tr th:only-of-type {\n",
       "        vertical-align: middle;\n",
       "    }\n",
       "\n",
       "    .dataframe tbody tr th {\n",
       "        vertical-align: top;\n",
       "    }\n",
       "\n",
       "    .dataframe thead th {\n",
       "        text-align: right;\n",
       "    }\n",
       "</style>\n",
       "<table border=\"1\" class=\"dataframe\">\n",
       "  <thead>\n",
       "    <tr style=\"text-align: right;\">\n",
       "      <th></th>\n",
       "      <th>f1</th>\n",
       "      <th>f2</th>\n",
       "      <th>f3</th>\n",
       "    </tr>\n",
       "  </thead>\n",
       "  <tbody>\n",
       "    <tr>\n",
       "      <th>0</th>\n",
       "      <td>7.611178</td>\n",
       "      <td>68.0</td>\n",
       "      <td>0.0</td>\n",
       "    </tr>\n",
       "    <tr>\n",
       "      <th>1</th>\n",
       "      <td>10.900000</td>\n",
       "      <td>35.0</td>\n",
       "      <td>1.0</td>\n",
       "    </tr>\n",
       "    <tr>\n",
       "      <th>2</th>\n",
       "      <td>12.100000</td>\n",
       "      <td>25.0</td>\n",
       "      <td>0.0</td>\n",
       "    </tr>\n",
       "    <tr>\n",
       "      <th>3</th>\n",
       "      <td>7.611178</td>\n",
       "      <td>32.0</td>\n",
       "      <td>0.0</td>\n",
       "    </tr>\n",
       "    <tr>\n",
       "      <th>4</th>\n",
       "      <td>7.611178</td>\n",
       "      <td>46.0</td>\n",
       "      <td>0.0</td>\n",
       "    </tr>\n",
       "  </tbody>\n",
       "</table>\n",
       "</div>"
      ],
      "text/plain": [
       "          f1    f2   f3\n",
       "0   7.611178  68.0  0.0\n",
       "1  10.900000  35.0  1.0\n",
       "2  12.100000  25.0  0.0\n",
       "3   7.611178  32.0  0.0\n",
       "4   7.611178  46.0  0.0"
      ]
     },
     "execution_count": 72,
     "metadata": {},
     "output_type": "execute_result"
    }
   ],
   "source": [
    "X_train = pd.DataFrame(X_train, columns=[\"f1\", \"f2\", \"f3\"])\n",
    "X_train.head()"
   ]
  },
  {
   "cell_type": "code",
   "execution_count": 73,
   "id": "1b32116d",
   "metadata": {},
   "outputs": [
    {
     "data": {
      "text/html": [
       "<div>\n",
       "<style scoped>\n",
       "    .dataframe tbody tr th:only-of-type {\n",
       "        vertical-align: middle;\n",
       "    }\n",
       "\n",
       "    .dataframe tbody tr th {\n",
       "        vertical-align: top;\n",
       "    }\n",
       "\n",
       "    .dataframe thead th {\n",
       "        text-align: right;\n",
       "    }\n",
       "</style>\n",
       "<table border=\"1\" class=\"dataframe\">\n",
       "  <thead>\n",
       "    <tr style=\"text-align: right;\">\n",
       "      <th></th>\n",
       "      <th>f1</th>\n",
       "      <th>f2</th>\n",
       "      <th>f3</th>\n",
       "    </tr>\n",
       "  </thead>\n",
       "  <tbody>\n",
       "    <tr>\n",
       "      <th>count</th>\n",
       "      <td>98550.000000</td>\n",
       "      <td>98550.000000</td>\n",
       "      <td>98550.000000</td>\n",
       "    </tr>\n",
       "    <tr>\n",
       "      <th>mean</th>\n",
       "      <td>7.624949</td>\n",
       "      <td>51.476985</td>\n",
       "      <td>0.223338</td>\n",
       "    </tr>\n",
       "    <tr>\n",
       "      <th>std</th>\n",
       "      <td>2.735228</td>\n",
       "      <td>20.570611</td>\n",
       "      <td>0.416485</td>\n",
       "    </tr>\n",
       "    <tr>\n",
       "      <th>min</th>\n",
       "      <td>0.000000</td>\n",
       "      <td>0.000000</td>\n",
       "      <td>0.000000</td>\n",
       "    </tr>\n",
       "    <tr>\n",
       "      <th>25%</th>\n",
       "      <td>7.611178</td>\n",
       "      <td>37.000000</td>\n",
       "      <td>0.000000</td>\n",
       "    </tr>\n",
       "    <tr>\n",
       "      <th>50%</th>\n",
       "      <td>7.611178</td>\n",
       "      <td>51.539116</td>\n",
       "      <td>0.000000</td>\n",
       "    </tr>\n",
       "    <tr>\n",
       "      <th>75%</th>\n",
       "      <td>8.775000</td>\n",
       "      <td>65.000000</td>\n",
       "      <td>0.000000</td>\n",
       "    </tr>\n",
       "    <tr>\n",
       "      <th>max</th>\n",
       "      <td>14.500000</td>\n",
       "      <td>100.000000</td>\n",
       "      <td>1.000000</td>\n",
       "    </tr>\n",
       "  </tbody>\n",
       "</table>\n",
       "</div>"
      ],
      "text/plain": [
       "                 f1            f2            f3\n",
       "count  98550.000000  98550.000000  98550.000000\n",
       "mean       7.624949     51.476985      0.223338\n",
       "std        2.735228     20.570611      0.416485\n",
       "min        0.000000      0.000000      0.000000\n",
       "25%        7.611178     37.000000      0.000000\n",
       "50%        7.611178     51.539116      0.000000\n",
       "75%        8.775000     65.000000      0.000000\n",
       "max       14.500000    100.000000      1.000000"
      ]
     },
     "execution_count": 73,
     "metadata": {},
     "output_type": "execute_result"
    }
   ],
   "source": [
    "X_train.describe()"
   ]
  },
  {
   "cell_type": "code",
   "execution_count": 74,
   "id": "c511d574",
   "metadata": {},
   "outputs": [],
   "source": [
    "X_train['f1_d'] = pd.qcut(X_train['f1'], q = 2 * int(X_train['f1'].max() - X_train['f1'].min()), labels = False, duplicates='drop')\n",
    "X_train['f2_d'] = pd.qcut(X_train['f2'], q = 2 * int(X_train['f2'].max() - X_train['f2'].min()), labels = False, duplicates='drop')\n",
    "X_train = X_train.drop(columns=[\"f1\", \"f2\"])"
   ]
  },
  {
   "cell_type": "code",
   "execution_count": 75,
   "id": "3ae1d528",
   "metadata": {},
   "outputs": [
    {
     "data": {
      "text/plain": [
       "array([ 6, 12, 14, 11,  4,  9, 15,  7,  5, 10,  8,  0,  3,  2, 13,  1],\n",
       "      dtype=int64)"
      ]
     },
     "execution_count": 75,
     "metadata": {},
     "output_type": "execute_result"
    }
   ],
   "source": [
    "X_train['f1_d'].unique()"
   ]
  },
  {
   "cell_type": "code",
   "execution_count": 76,
   "id": "76a95ebc",
   "metadata": {},
   "outputs": [
    {
     "data": {
      "text/plain": [
       "array([61, 27, 17, 24, 38, 35, 26, 73, 58, 47, 67, 37, 41, 45, 36, 46, 57,\n",
       "        3, 63, 50, 44, 33, 62, 15, 21, 28, 40, 31, 64, 52, 54, 39, 19, 65,\n",
       "       51, 43, 42, 29, 59, 34, 14, 90, 20, 60, 74,  4, 10, 72, 18, 25, 22,\n",
       "        7, 30,  2, 86, 32, 23, 89, 71,  5, 66, 56, 83,  8, 49,  6,  1, 13,\n",
       "       53, 82, 76, 87, 80, 55, 70, 68, 78, 48, 81, 16, 12,  9, 85, 11, 69,\n",
       "       88, 77, 75, 79, 84,  0], dtype=int64)"
      ]
     },
     "execution_count": 76,
     "metadata": {},
     "output_type": "execute_result"
    }
   ],
   "source": [
    "X_train['f2_d'].unique()"
   ]
  },
  {
   "cell_type": "code",
   "execution_count": 77,
   "id": "c2f3213d",
   "metadata": {},
   "outputs": [],
   "source": [
    "X_test = pd.DataFrame(X_test, columns=[\"f1\", \"f2\", \"f3\"])\n",
    "X_test['f1_d'] = pd.qcut(X_test['f1'], q = 2 * int(X_test['f1'].max() - X_test['f1'].min()), labels = False, duplicates='drop')\n",
    "X_test['f2_d'] = pd.qcut(X_test['f2'], q = 2 * int(X_test['f2'].max() - X_test['f2'].min()), labels = False, duplicates='drop')\n",
    "X_test = X_test.drop(columns=[\"f1\", \"f2\"])"
   ]
  },
  {
   "cell_type": "code",
   "execution_count": 78,
   "id": "1ddcd0e0",
   "metadata": {},
   "outputs": [],
   "source": [
    "train = np.concatenate((X_train, y_train.values.reshape(-1,1)), axis=1)\n",
    "train = pd.DataFrame(train, columns=[\"f1\", \"f2\", \"f3\", \"target\"])\n",
    "train.to_csv('../datasets/train.csv', index=False)\n",
    "\n",
    "test = np.concatenate((X_test, y_test.values.reshape(-1,1)), axis=1)\n",
    "test = pd.DataFrame(test, columns=[\"f1\", \"f2\", \"f3\", \"target\"])\n",
    "test.to_csv('../datasets/test.csv', index=False)"
   ]
  }
 ],
 "metadata": {
  "kernelspec": {
   "display_name": "Python 3",
   "language": "python",
   "name": "python3"
  },
  "language_info": {
   "codemirror_mode": {
    "name": "ipython",
    "version": 3
   },
   "file_extension": ".py",
   "mimetype": "text/x-python",
   "name": "python",
   "nbconvert_exporter": "python",
   "pygments_lexer": "ipython3",
   "version": "3.8.6"
  },
  "papermill": {
   "default_parameters": {},
   "duration": 193.863288,
   "end_time": "2022-08-24T11:16:22.790216",
   "environment_variables": {},
   "exception": null,
   "input_path": "__notebook__.ipynb",
   "output_path": "__notebook__.ipynb",
   "parameters": {},
   "start_time": "2022-08-24T11:13:08.926928",
   "version": "2.3.4"
  }
 },
 "nbformat": 4,
 "nbformat_minor": 5
}
